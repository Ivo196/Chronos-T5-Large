{
 "cells": [
  {
   "cell_type": "markdown",
   "metadata": {},
   "source": [
    "# Chronos T5 \n"
   ]
  },
  {
   "cell_type": "code",
   "execution_count": 1,
   "metadata": {},
   "outputs": [
    {
     "name": "stderr",
     "output_type": "stream",
     "text": [
      "[*********************100%%**********************]  1 of 1 completed\n"
     ]
    }
   ],
   "source": [
    "import yfinance as yf\n",
    "\n",
    "\n",
    "data = yf.download('BTC-USD', interval='1d')\n",
    "data.to_csv('BTC-USD.csv')\n"
   ]
  },
  {
   "cell_type": "code",
   "execution_count": 2,
   "metadata": {},
   "outputs": [],
   "source": [
    "import pandas as pd \n",
    "\n",
    "data = pd.read_csv('BTC-USD.csv', parse_dates=['Date'], index_col=['Date'])\n",
    "data.drop(['Adj Close', 'Open', 'High', 'Low', 'Volume'], axis=1, inplace=True)\n"
   ]
  },
  {
   "cell_type": "code",
   "execution_count": 3,
   "metadata": {},
   "outputs": [],
   "source": [
    "import ta\n",
    "\n",
    "data['sma'] = ta.trend.sma_indicator(data['Close'], window=30)\n",
    "data['ema20'] = ta.trend.ema_indicator(data['Close'], window=20)\n",
    "data['ema50'] = ta.trend.ema_indicator(data['Close'], window=50)\n",
    "data['ema200'] = ta.trend.ema_indicator(data['Close'], window=200)\n",
    "\n",
    "\n",
    "# Añadir RSI\n",
    "data['rsi'] = ta.momentum.rsi(data['Close'], window=14)\n",
    "\n",
    "# Añadir MACD\n",
    "macd = ta.trend.MACD(data['Close'], window_slow=26, window_fast=12, window_sign=9)\n",
    "data['macd'] = macd.macd()\n",
    "data['macd_signal'] = macd.macd_signal()\n",
    "\n",
    "#Precio Futuro\n",
    "data['Close_future'] = data['Close'].shift(-1)\n",
    "# Dirección del Movimiento de Precio\n",
    "data['Price_Up'] = (data['Close_future'] > data['Close']).astype(int)\n",
    "\n",
    "\n",
    "#Boramos datos nulos\n",
    "data.dropna(inplace=True)\n",
    "\n",
    "data.to_csv('BTC-Indicators.csv',index=['Date'])\n",
    "data = pd.read_csv('BTC-Indicators.csv', parse_dates=['Date'], index_col=['Date'])\n",
    "\n"
   ]
  },
  {
   "cell_type": "code",
   "execution_count": 4,
   "metadata": {},
   "outputs": [],
   "source": [
    "features = ['Close', 'sma', 'ema20', 'ema50', 'ema200', 'rsi', 'macd', 'macd_signal']\n",
    "target = ['Price_Up']\n",
    "# Separar X e y\n",
    "X = data[features]\n",
    "y = data[target]\n",
    "\n"
   ]
  },
  {
   "cell_type": "code",
   "execution_count": 5,
   "metadata": {},
   "outputs": [],
   "source": [
    "from sklearn.model_selection import train_test_split\n",
    "X_train, X_test, y_train, y_test = train_test_split(X, y, test_size=0.01, shuffle= False)\n"
   ]
  },
  {
   "cell_type": "code",
   "execution_count": 6,
   "metadata": {},
   "outputs": [],
   "source": [
    "from sklearn.preprocessing import StandardScaler\n",
    "\n",
    "scaler = StandardScaler()\n",
    "X_train_scaled = scaler.fit_transform(X_train)\n",
    "X_test_scaled = scaler.transform(X_test)\n",
    "\n"
   ]
  },
  {
   "cell_type": "markdown",
   "metadata": {},
   "source": [
    "### Train Chronos T5 \n"
   ]
  },
  {
   "cell_type": "code",
   "execution_count": 31,
   "metadata": {},
   "outputs": [
    {
     "name": "stdout",
     "output_type": "stream",
     "text": [
      "cuda\n"
     ]
    },
    {
     "name": "stderr",
     "output_type": "stream",
     "text": [
      "C:\\Users\\ivoto\\AppData\\Local\\Temp\\ipykernel_11732\\134942701.py:10: FutureWarning: Series.__getitem__ treating keys as positions is deprecated. In a future version, integer keys will always be treated as labels (consistent with DataFrame behavior). To access a value by position, use `ser.iloc[pos]`\n",
      "  context = torch.tensor(X_train['Close'], dtype=torch.float32)\n"
     ]
    },
    {
     "data": {
      "text/plain": [
       "tensor([[[67854.4609, 67854.4609, 66788.6641, 67854.4609, 68564.9844,\n",
       "          67143.9453, 67143.9453, 66078.1484, 66788.6641, 66433.4297,\n",
       "          66433.4297, 66078.1484, 67143.9453, 66788.6641, 66788.6641,\n",
       "          65367.6289, 67499.1797, 66788.6641, 65012.3945, 64657.1133,\n",
       "          64657.1133, 65367.6289, 65367.6289, 64657.1133, 66788.6641,\n",
       "          69275.5000, 67854.4609, 69630.7344, 67854.4609, 69986.0156,\n",
       "          69275.5000],\n",
       "         [66788.6641, 67499.1797, 67499.1797, 68920.2188, 68564.9844,\n",
       "          68564.9844, 68209.6953, 67854.4609, 67499.1797, 67499.1797,\n",
       "          68564.9844, 68920.2188, 68920.2188, 68564.9844, 69275.5000,\n",
       "          68920.2188, 68920.2188, 67854.4609, 69275.5000, 69630.7344,\n",
       "          69275.5000, 69630.7344, 68920.2188, 69275.5000, 68564.9844,\n",
       "          68564.9844, 68564.9844, 68564.9844, 68920.2188, 69275.5000,\n",
       "          68920.2188],\n",
       "         [65722.9141, 65012.3945, 64301.8789, 65367.6289, 64657.1133,\n",
       "          64657.1133, 64657.1133, 65367.6289, 65722.9141, 63591.3594,\n",
       "          63591.3594, 63946.5938, 63946.5938, 64301.8789, 65367.6289,\n",
       "          64657.1133, 63591.3594, 62170.3242, 61815.0430, 61815.0430,\n",
       "          62170.3242, 62525.5625, 63236.0781, 62525.5625, 62525.5625,\n",
       "          62880.8438, 62170.3242, 62880.8438, 60394.0078, 57196.7070,\n",
       "          56841.4219],\n",
       "         [68209.6953, 71051.7656, 70341.2500, 70341.2500, 71407.0469,\n",
       "          72472.8516, 72472.8516, 71407.0469, 70696.5312, 71051.7656,\n",
       "          71407.0469, 72828.0859, 73538.6016, 73538.6016, 73183.3672,\n",
       "          68920.2188, 66078.1484, 64301.8789, 64657.1133, 65012.3945,\n",
       "          65367.6289, 63946.5938, 64657.1133, 69986.0156, 69630.7344,\n",
       "          69275.5000, 64301.8789, 62170.3242, 62880.8438, 63236.0781,\n",
       "          64657.1133],\n",
       "         [66788.6641, 66078.1484, 66433.4297, 65367.6289, 65367.6289,\n",
       "          66788.6641, 66078.1484, 65012.3945, 65012.3945, 64301.8789,\n",
       "          65012.3945, 66788.6641, 66433.4297, 66433.4297, 68564.9844,\n",
       "          68920.2188, 69630.7344, 69275.5000, 68564.9844, 68209.6953,\n",
       "          68920.2188, 69630.7344, 67143.9453, 68209.6953, 68564.9844,\n",
       "          75314.9141, 76735.9531, 74249.1172, 74249.1172, 74959.6328,\n",
       "          76735.9531],\n",
       "         [66078.1484, 65722.9141, 68564.9844, 68564.9844, 68564.9844,\n",
       "          70341.2500, 70341.2500, 73183.3672, 71407.0469, 69986.0156,\n",
       "          70341.2500, 73183.3672, 73183.3672, 75314.9141, 73183.3672,\n",
       "          73538.6016, 74249.1172, 74604.3984, 74249.1172, 75314.9141,\n",
       "          74249.1172, 72117.5703, 77446.4688, 77801.7031, 78512.2188,\n",
       "          78867.5000, 78512.2188, 78867.5000, 78512.2188, 77446.4688,\n",
       "          77091.1875],\n",
       "         [66433.4297, 66078.1484, 66433.4297, 67143.9453, 67143.9453,\n",
       "          67499.1797, 68920.2188, 70341.2500, 70341.2500, 71407.0469,\n",
       "          72472.8516, 72828.0859, 72117.5703, 71051.7656, 65012.3945,\n",
       "          66078.1484, 65012.3945, 65722.9141, 65012.3945, 65722.9141,\n",
       "          65367.6289, 65722.9141, 65722.9141, 66078.1484, 65012.3945,\n",
       "          66078.1484, 64657.1133, 65367.6289, 64657.1133, 64657.1133,\n",
       "          64657.1133],\n",
       "         [67143.9453, 67854.4609, 68209.6953, 69275.5000, 69986.0156,\n",
       "          69275.5000, 69630.7344, 70341.2500, 71051.7656, 71407.0469,\n",
       "          72472.8516, 72828.0859, 74249.1172, 75314.9141, 76380.6719,\n",
       "          77446.4688, 76735.9531, 76735.9531, 76735.9531, 78512.2188,\n",
       "          78156.9844, 78512.2188, 77091.1875, 75670.1562, 74959.6328,\n",
       "          74959.6328, 75670.1562, 76025.4375, 76025.4375, 76025.4375,\n",
       "          77801.7031],\n",
       "         [67143.9453, 67499.1797, 66788.6641, 67143.9453, 67499.1797,\n",
       "          68209.6953, 67143.9453, 65722.9141, 66788.6641, 66788.6641,\n",
       "          66078.1484, 66078.1484, 66788.6641, 66788.6641, 67499.1797,\n",
       "          67854.4609, 68564.9844, 68209.6953, 68209.6953, 68209.6953,\n",
       "          67143.9453, 61815.0430, 60038.7734, 58262.4570, 57907.2227,\n",
       "          61104.5273, 60394.0078, 64301.8789, 66788.6641, 68209.6953,\n",
       "          68564.9844],\n",
       "         [68209.6953, 67854.4609, 67499.1797, 67854.4609, 67854.4609,\n",
       "          68209.6953, 67499.1797, 66078.1484, 66078.1484, 64657.1133,\n",
       "          65012.3945, 65367.6289, 66078.1484, 68209.6953, 67143.9453,\n",
       "          68209.6953, 67854.4609, 67499.1797, 68564.9844, 67854.4609,\n",
       "          68564.9844, 68564.9844, 69986.0156, 70341.2500, 70696.5312,\n",
       "          69630.7344, 69986.0156, 70341.2500, 70341.2500, 69986.0156,\n",
       "          70696.5312],\n",
       "         [66078.1484, 64657.1133, 64657.1133, 63236.0781, 62170.3242,\n",
       "          63236.0781, 64301.8789, 65367.6289, 63236.0781, 62170.3242,\n",
       "          62880.8438, 62525.5625, 62525.5625, 63591.3594, 62525.5625,\n",
       "          62170.3242, 62525.5625, 62525.5625, 62880.8438, 62525.5625,\n",
       "          62525.5625, 63591.3594, 63236.0781, 63946.5938, 61815.0430,\n",
       "          61815.0430, 61104.5273, 61104.5273, 60394.0078, 60394.0078,\n",
       "          60038.7734],\n",
       "         [68564.9844, 67854.4609, 68564.9844, 68564.9844, 69275.5000,\n",
       "          69986.0156, 69986.0156, 70696.5312, 71051.7656, 69986.0156,\n",
       "          70341.2500, 70696.5312, 72117.5703, 72472.8516, 72117.5703,\n",
       "          71762.2812, 71407.0469, 71762.2812, 68564.9844, 68564.9844,\n",
       "          71051.7656, 63236.0781, 65367.6289, 67143.9453, 65367.6289,\n",
       "          65012.3945, 62525.5625, 65722.9141, 67143.9453, 69275.5000,\n",
       "          69630.7344],\n",
       "         [67143.9453, 67143.9453, 66788.6641, 67499.1797, 69630.7344,\n",
       "          69275.5000, 68920.2188, 68209.6953, 69630.7344, 69275.5000,\n",
       "          69275.5000, 70341.2500, 70696.5312, 72117.5703, 72472.8516,\n",
       "          72828.0859, 75314.9141, 76025.4375, 75670.1562, 76025.4375,\n",
       "          77091.1875, 76025.4375, 77446.4688, 76735.9531, 74959.6328,\n",
       "          75314.9141, 77446.4688, 77091.1875, 77801.7031, 76735.9531,\n",
       "          77446.4688],\n",
       "         [65012.3945, 67143.9453, 68209.6953, 68209.6953, 68209.6953,\n",
       "          71051.7656, 69275.5000, 66788.6641, 67854.4609, 66433.4297,\n",
       "          66788.6641, 67854.4609, 66788.6641, 67854.4609, 68209.6953,\n",
       "          67854.4609, 67499.1797, 67854.4609, 67499.1797, 67499.1797,\n",
       "          66078.1484, 66433.4297, 65367.6289, 64657.1133, 66788.6641,\n",
       "          66078.1484, 66078.1484, 66433.4297, 66078.1484, 66078.1484,\n",
       "          64657.1133],\n",
       "         [66433.4297, 67143.9453, 66433.4297, 67499.1797, 66433.4297,\n",
       "          66433.4297, 67143.9453, 66433.4297, 66788.6641, 67854.4609,\n",
       "          68564.9844, 69986.0156, 70696.5312, 69986.0156, 69275.5000,\n",
       "          69630.7344, 70696.5312, 70341.2500, 70341.2500, 69986.0156,\n",
       "          68920.2188, 67854.4609, 68920.2188, 68920.2188, 68920.2188,\n",
       "          69630.7344, 71051.7656, 67143.9453, 64301.8789, 68920.2188,\n",
       "          69630.7344],\n",
       "         [67854.4609, 65012.3945, 65722.9141, 63946.5938, 64657.1133,\n",
       "          65367.6289, 66433.4297, 66078.1484, 65722.9141, 66433.4297,\n",
       "          66788.6641, 66788.6641, 68209.6953, 67854.4609, 67499.1797,\n",
       "          63946.5938, 63946.5938, 63946.5938, 63946.5938, 64301.8789,\n",
       "          63946.5938, 64301.8789, 65012.3945, 64301.8789, 66078.1484,\n",
       "          65012.3945, 65012.3945, 65367.6289, 65722.9141, 66078.1484,\n",
       "          66078.1484],\n",
       "         [68920.2188, 69630.7344, 69630.7344, 69630.7344, 70696.5312,\n",
       "          69986.0156, 69986.0156, 69275.5000, 68920.2188, 68564.9844,\n",
       "          69630.7344, 69630.7344, 70341.2500, 71051.7656, 70696.5312,\n",
       "          70696.5312, 70696.5312, 70696.5312, 71051.7656, 72117.5703,\n",
       "          71407.0469, 71051.7656, 71051.7656, 67143.9453, 67854.4609,\n",
       "          66433.4297, 66433.4297, 67854.4609, 67499.1797, 67499.1797,\n",
       "          69630.7344],\n",
       "         [67143.9453, 69275.5000, 68564.9844, 66433.4297, 65012.3945,\n",
       "          66433.4297, 65367.6289, 64657.1133, 65012.3945, 65722.9141,\n",
       "          65367.6289, 63946.5938, 64657.1133, 64657.1133, 63946.5938,\n",
       "          57196.7070, 56841.4219, 57551.9414, 55775.6719, 55775.6719,\n",
       "          55775.6719, 55420.3906, 56130.9062, 55065.1523, 54709.8711,\n",
       "          50802.0508, 51157.2852, 51157.2852, 51512.5664, 51512.5664,\n",
       "          51157.2852],\n",
       "         [67854.4609, 64657.1133, 65722.9141, 65722.9141, 63946.5938,\n",
       "          64657.1133, 63946.5938, 63946.5938, 63946.5938, 63591.3594,\n",
       "          64301.8789, 64301.8789, 63946.5938, 64301.8789, 65012.3945,\n",
       "          65012.3945, 64657.1133, 65722.9141, 66788.6641, 66078.1484,\n",
       "          66433.4297, 65367.6289, 65722.9141, 65012.3945, 70341.2500,\n",
       "          69986.0156, 69986.0156, 69630.7344, 68564.9844, 69630.7344,\n",
       "          69630.7344],\n",
       "         [68209.6953, 69630.7344, 71051.7656, 69275.5000, 69275.5000,\n",
       "          68920.2188, 70696.5312, 72117.5703, 70341.2500, 70341.2500,\n",
       "          71407.0469, 71407.0469, 71762.2812, 71051.7656, 69275.5000,\n",
       "          66078.1484, 66433.4297, 64301.8789, 62880.8438, 63236.0781,\n",
       "          65012.3945, 62170.3242, 62170.3242, 61104.5273, 60749.2930,\n",
       "          60394.0078, 60038.7734, 61459.8086, 62525.5625, 62880.8438,\n",
       "          62170.3242]]])"
      ]
     },
     "execution_count": 31,
     "metadata": {},
     "output_type": "execute_result"
    }
   ],
   "source": [
    "import torch\n",
    "from chronos import ChronosPipeline\n",
    "print('cuda' if torch.cuda.is_available() else 'cpu')\n",
    "pipeline = ChronosPipeline.from_pretrained(\n",
    "    'amazon/chronos-t5-small',\n",
    "    device_map='cuda',\n",
    "    torch_dtype= torch.float32\n",
    ")\n",
    "\n",
    "context = torch.tensor(X_train['Close'], dtype=torch.float32)\n",
    "prediction_length = 31\n",
    "\n",
    "forecast = pipeline.predict(context, prediction_length)\n",
    "forecast"
   ]
  },
  {
   "cell_type": "code",
   "execution_count": 32,
   "metadata": {},
   "outputs": [
    {
     "data": {
      "image/png": "[encoded data removed]",
      "text/plain": [
       "<Figure size 800x400 with 1 Axes>"
      ]
     },
     "metadata": {},
     "output_type": "display_data"
    }
   ],
   "source": [
    "import numpy as np\n",
    "import matplotlib.pyplot as plt\n",
    "# visualize the forecast\n",
    "forecast_index = range(len(data), len(data) + prediction_length)\n",
    "low, median, high = np.quantile(forecast[0].numpy(), [0.1, 0.5, 0.9], axis=0)\n",
    "\n",
    "plt.figure(figsize=(8, 4))\n",
    "plt.plot(data[\"Close\"], color=\"royalblue\", label=\"historical data\")\n",
    "plt.plot(forecast_index, median, color=\"tomato\", label=\"median forecast\")\n",
    "plt.fill_between(forecast_index, low, high, color=\"tomato\", alpha=0.3, label=\"80% prediction interval\")\n",
    "plt.legend()\n",
    "plt.grid()\n",
    "plt.show()"
   ]
  }
 ],
 "metadata": {
  "kernelspec": {
   "display_name": "base",
   "language": "python",
   "name": "python3"
  },
  "language_info": {
   "codemirror_mode": {
    "name": "ipython",
    "version": 3
   },
   "file_extension": ".py",
   "mimetype": "text/x-python",
   "name": "python",
   "nbconvert_exporter": "python",
   "pygments_lexer": "ipython3",
   "version": "3.12.2"
  }
 },
 "nbformat": 4,
 "nbformat_minor": 2
}
