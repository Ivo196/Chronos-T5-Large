{
 "cells": [
  {
   "cell_type": "markdown",
   "metadata": {},
   "source": [
    "# Chronos T5 \n"
   ]
  },
  {
   "cell_type": "code",
   "execution_count": 2,
   "metadata": {},
   "outputs": [
    {
     "name": "stderr",
     "output_type": "stream",
     "text": [
      "[*********************100%%**********************]  1 of 1 completed\n"
     ]
    }
   ],
   "source": [
    "import yfinance as yf\n",
    "\n",
    "\n",
    "data = yf.download('BTC-USD', interval='1d')\n",
    "data.to_csv('BTC-USD.csv')\n"
   ]
  },
  {
   "cell_type": "code",
   "execution_count": null,
   "metadata": {},
   "outputs": [],
   "source": [
    "import pandas as pd \n",
    "\n",
    "data = pd.read_csv('BTC-USD.csv', parse_dates=['Date'], index_col=['Date'])\n",
    "data.drop(['Adj Close', 'Open', 'High', 'Low', 'Volume'], axis=1, inplace=True)\n"
   ]
  },
  {
   "cell_type": "code",
   "execution_count": 14,
   "metadata": {},
   "outputs": [],
   "source": [
    "import ta\n",
    "\n",
    "data['sma'] = ta.trend.sma_indicator(data['Close'], window=30)\n",
    "data['ema20'] = ta.trend.ema_indicator(data['Close'], window=20)\n",
    "data['ema50'] = ta.trend.ema_indicator(data['Close'], window=50)\n",
    "data['ema200'] = ta.trend.ema_indicator(data['Close'], window=200)\n",
    "\n",
    "\n",
    "# Añadir RSI\n",
    "data['rsi'] = ta.momentum.rsi(data['Close'], window=14)\n",
    "\n",
    "# Añadir MACD\n",
    "macd = ta.trend.MACD(data['Close'], window_slow=26, window_fast=12, window_sign=9)\n",
    "data['macd'] = macd.macd()\n",
    "data['macd_signal'] = macd.macd_signal()\n",
    "\n",
    "#Precio Futuro\n",
    "data['Close_future'] = data['Close'].shift(-1)\n",
    "# Dirección del Movimiento de Precio\n",
    "data['Price_Up'] = (data['Close_future'] > data['Close']).astype(int)\n",
    "\n",
    "\n",
    "#Boramos datos nulos\n",
    "data.dropna(inplace=True)\n",
    "\n",
    "data.to_csv('BTC-Indicators.csv')\n"
   ]
  },
  {
   "cell_type": "code",
   "execution_count": 13,
   "metadata": {},
   "outputs": [
    {
     "data": {
      "text/plain": [
       "Close          float64\n",
       "sma            float64\n",
       "ema20          float64\n",
       "ema50          float64\n",
       "ema200         float64\n",
       "rsi            float64\n",
       "macd           float64\n",
       "macd_signal    float64\n",
       "dtype: object"
      ]
     },
     "execution_count": 13,
     "metadata": {},
     "output_type": "execute_result"
    }
   ],
   "source": [
    "data.dtypes"
   ]
  }
 ],
 "metadata": {
  "kernelspec": {
   "display_name": "base",
   "language": "python",
   "name": "python3"
  },
  "language_info": {
   "codemirror_mode": {
    "name": "ipython",
    "version": 3
   },
   "file_extension": ".py",
   "mimetype": "text/x-python",
   "name": "python",
   "nbconvert_exporter": "python",
   "pygments_lexer": "ipython3",
   "version": "3.12.2"
  }
 },
 "nbformat": 4,
 "nbformat_minor": 2
}
