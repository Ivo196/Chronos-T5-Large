{
 "cells": [
  {
   "cell_type": "markdown",
   "metadata": {},
   "source": [
    "# BackTesting \n"
   ]
  },
  {
   "cell_type": "code",
   "execution_count": 2,
   "metadata": {},
   "outputs": [
    {
     "data": {
      "text/html": [
       "<div>\n",
       "<style scoped>\n",
       "    .dataframe tbody tr th:only-of-type {\n",
       "        vertical-align: middle;\n",
       "    }\n",
       "\n",
       "    .dataframe tbody tr th {\n",
       "        vertical-align: top;\n",
       "    }\n",
       "\n",
       "    .dataframe thead th {\n",
       "        text-align: right;\n",
       "    }\n",
       "</style>\n",
       "<table border=\"1\" class=\"dataframe\">\n",
       "  <thead>\n",
       "    <tr style=\"text-align: right;\">\n",
       "      <th></th>\n",
       "      <th>Open</th>\n",
       "      <th>High</th>\n",
       "      <th>Low</th>\n",
       "      <th>Close</th>\n",
       "      <th>Adj Close</th>\n",
       "      <th>Volume</th>\n",
       "    </tr>\n",
       "    <tr>\n",
       "      <th>Date</th>\n",
       "      <th></th>\n",
       "      <th></th>\n",
       "      <th></th>\n",
       "      <th></th>\n",
       "      <th></th>\n",
       "      <th></th>\n",
       "    </tr>\n",
       "  </thead>\n",
       "  <tbody>\n",
       "    <tr>\n",
       "      <th>2020-01-01</th>\n",
       "      <td>7194.892090</td>\n",
       "      <td>7254.330566</td>\n",
       "      <td>7174.944336</td>\n",
       "      <td>7200.174316</td>\n",
       "      <td>7200.174316</td>\n",
       "      <td>18565664997</td>\n",
       "    </tr>\n",
       "    <tr>\n",
       "      <th>2020-01-02</th>\n",
       "      <td>7202.551270</td>\n",
       "      <td>7212.155273</td>\n",
       "      <td>6935.270020</td>\n",
       "      <td>6985.470215</td>\n",
       "      <td>6985.470215</td>\n",
       "      <td>20802083465</td>\n",
       "    </tr>\n",
       "    <tr>\n",
       "      <th>2020-01-03</th>\n",
       "      <td>6984.428711</td>\n",
       "      <td>7413.715332</td>\n",
       "      <td>6914.996094</td>\n",
       "      <td>7344.884277</td>\n",
       "      <td>7344.884277</td>\n",
       "      <td>28111481032</td>\n",
       "    </tr>\n",
       "    <tr>\n",
       "      <th>2020-01-04</th>\n",
       "      <td>7345.375488</td>\n",
       "      <td>7427.385742</td>\n",
       "      <td>7309.514160</td>\n",
       "      <td>7410.656738</td>\n",
       "      <td>7410.656738</td>\n",
       "      <td>18444271275</td>\n",
       "    </tr>\n",
       "    <tr>\n",
       "      <th>2020-01-05</th>\n",
       "      <td>7410.451660</td>\n",
       "      <td>7544.497070</td>\n",
       "      <td>7400.535645</td>\n",
       "      <td>7411.317383</td>\n",
       "      <td>7411.317383</td>\n",
       "      <td>19725074095</td>\n",
       "    </tr>\n",
       "    <tr>\n",
       "      <th>...</th>\n",
       "      <td>...</td>\n",
       "      <td>...</td>\n",
       "      <td>...</td>\n",
       "      <td>...</td>\n",
       "      <td>...</td>\n",
       "      <td>...</td>\n",
       "    </tr>\n",
       "    <tr>\n",
       "      <th>2024-12-18</th>\n",
       "      <td>106147.296875</td>\n",
       "      <td>106470.609375</td>\n",
       "      <td>100041.539062</td>\n",
       "      <td>100041.539062</td>\n",
       "      <td>100041.539062</td>\n",
       "      <td>93865656139</td>\n",
       "    </tr>\n",
       "    <tr>\n",
       "      <th>2024-12-19</th>\n",
       "      <td>100070.687500</td>\n",
       "      <td>102748.148438</td>\n",
       "      <td>95587.679688</td>\n",
       "      <td>97490.953125</td>\n",
       "      <td>97490.953125</td>\n",
       "      <td>97221662392</td>\n",
       "    </tr>\n",
       "    <tr>\n",
       "      <th>2024-12-20</th>\n",
       "      <td>97484.695312</td>\n",
       "      <td>98098.914062</td>\n",
       "      <td>92175.179688</td>\n",
       "      <td>97755.929688</td>\n",
       "      <td>97755.929688</td>\n",
       "      <td>105634083408</td>\n",
       "    </tr>\n",
       "    <tr>\n",
       "      <th>2024-12-21</th>\n",
       "      <td>97756.195312</td>\n",
       "      <td>99507.101562</td>\n",
       "      <td>96426.523438</td>\n",
       "      <td>97224.726562</td>\n",
       "      <td>97224.726562</td>\n",
       "      <td>51765334294</td>\n",
       "    </tr>\n",
       "    <tr>\n",
       "      <th>2024-12-22</th>\n",
       "      <td>97225.835938</td>\n",
       "      <td>97331.203125</td>\n",
       "      <td>94381.617188</td>\n",
       "      <td>95276.609375</td>\n",
       "      <td>95276.609375</td>\n",
       "      <td>42033696768</td>\n",
       "    </tr>\n",
       "  </tbody>\n",
       "</table>\n",
       "<p>1818 rows × 6 columns</p>\n",
       "</div>"
      ],
      "text/plain": [
       "                     Open           High            Low          Close  \\\n",
       "Date                                                                     \n",
       "2020-01-01    7194.892090    7254.330566    7174.944336    7200.174316   \n",
       "2020-01-02    7202.551270    7212.155273    6935.270020    6985.470215   \n",
       "2020-01-03    6984.428711    7413.715332    6914.996094    7344.884277   \n",
       "2020-01-04    7345.375488    7427.385742    7309.514160    7410.656738   \n",
       "2020-01-05    7410.451660    7544.497070    7400.535645    7411.317383   \n",
       "...                   ...            ...            ...            ...   \n",
       "2024-12-18  106147.296875  106470.609375  100041.539062  100041.539062   \n",
       "2024-12-19  100070.687500  102748.148438   95587.679688   97490.953125   \n",
       "2024-12-20   97484.695312   98098.914062   92175.179688   97755.929688   \n",
       "2024-12-21   97756.195312   99507.101562   96426.523438   97224.726562   \n",
       "2024-12-22   97225.835938   97331.203125   94381.617188   95276.609375   \n",
       "\n",
       "                Adj Close        Volume  \n",
       "Date                                     \n",
       "2020-01-01    7200.174316   18565664997  \n",
       "2020-01-02    6985.470215   20802083465  \n",
       "2020-01-03    7344.884277   28111481032  \n",
       "2020-01-04    7410.656738   18444271275  \n",
       "2020-01-05    7411.317383   19725074095  \n",
       "...                   ...           ...  \n",
       "2024-12-18  100041.539062   93865656139  \n",
       "2024-12-19   97490.953125   97221662392  \n",
       "2024-12-20   97755.929688  105634083408  \n",
       "2024-12-21   97224.726562   51765334294  \n",
       "2024-12-22   95276.609375   42033696768  \n",
       "\n",
       "[1818 rows x 6 columns]"
      ]
     },
     "execution_count": 2,
     "metadata": {},
     "output_type": "execute_result"
    }
   ],
   "source": [
    "import pandas as pd\n",
    "import numpy as np\n",
    "data = pd.read_csv('BTC-USD.csv', parse_dates=['Date'], index_col=['Date'])\n",
    "data = data.loc['2020-01-01':]\n",
    "data"
   ]
  },
  {
   "cell_type": "code",
   "execution_count": 3,
   "metadata": {},
   "outputs": [
    {
     "data": {
      "text/plain": [
       "Start                     2020-01-01 00:00:00\n",
       "End                       2024-12-22 00:00:00\n",
       "Duration                   1817 days 00:00:00\n",
       "Exposure Time [%]                   59.735974\n",
       "Equity Final [$]               1871296.116309\n",
       "Equity Peak [$]                2035758.335059\n",
       "Return [%]                         835.648058\n",
       "Buy & Hold Return [%]             1223.254205\n",
       "Return (Ann.) [%]                   56.664406\n",
       "Volatility (Ann.) [%]               69.053085\n",
       "Sharpe Ratio                         0.820592\n",
       "Sortino Ratio                        2.152484\n",
       "Calmar Ratio                         1.110055\n",
       "Max. Drawdown [%]                    -51.0465\n",
       "Avg. Drawdown [%]                   -7.418932\n",
       "Max. Drawdown Duration      860 days 00:00:00\n",
       "Avg. Drawdown Duration       42 days 00:00:00\n",
       "# Trades                                  101\n",
       "Win Rate [%]                        27.722772\n",
       "Best Trade [%]                      67.130993\n",
       "Worst Trade [%]                     -5.042587\n",
       "Avg. Trade [%]                       2.282312\n",
       "Max. Trade Duration          63 days 00:00:00\n",
       "Avg. Trade Duration          10 days 00:00:00\n",
       "Profit Factor                         2.40067\n",
       "Expectancy [%]                       3.090956\n",
       "SQN                                  1.623942\n",
       "_strategy                            SMAcross\n",
       "_equity_curve                             ...\n",
       "_trades                        Size  Entry...\n",
       "dtype: object"
      ]
     },
     "execution_count": 3,
     "metadata": {},
     "output_type": "execute_result"
    }
   ],
   "source": [
    "from backtesting import Strategy, Backtest\n",
    "from backtesting.lib import crossover, plot_heatmaps\n",
    "import talib \n",
    "\n",
    "class SMAcross(Strategy):\n",
    "    def init(self):\n",
    "        self.ema = self.I(talib.EMA, self.data.Close, timeperiod=20)\n",
    "                \n",
    "    def next(self): # Se llama en cada paso o dia.\n",
    "        price = self.data.Close[-1] # Precio de cierre del ultimo dia, ya que viene el acumulado por cada dia que pasa.\n",
    "\n",
    "        if price > self.ema[-1] and not self.position.is_long: \n",
    "            # self.buy(size=10, tp=price*1.3, sl=price*0.85)\n",
    "            self.buy(sl=price*0.95)\n",
    "        elif price <= self.ema[-1] and self.position.is_long:\n",
    "            self.position.close()\n",
    "\n",
    "bt = Backtest(data, SMAcross,cash=200000 )\n",
    "bt.run()"
   ]
  },
  {
   "cell_type": "code",
   "execution_count": 4,
   "metadata": {},
   "outputs": [
    {
     "name": "stderr",
     "output_type": "stream",
     "text": [
      "BokehDeprecationWarning: Passing lists of formats for DatetimeTickFormatter scales was deprecated in Bokeh 3.0. Configure a single string format for each scale\n",
      "/Users/ivotonioni/miniconda3/envs/backtest_env/lib/python3.9/site-packages/backtesting/_plotting.py:250: UserWarning: DatetimeFormatter scales now only accept a single format. Using the first provided: '%d %b'\n",
      "  formatter=DatetimeTickFormatter(days=['%d %b', '%a %d'],\n",
      "BokehDeprecationWarning: Passing lists of formats for DatetimeTickFormatter scales was deprecated in Bokeh 3.0. Configure a single string format for each scale\n",
      "/Users/ivotonioni/miniconda3/envs/backtest_env/lib/python3.9/site-packages/backtesting/_plotting.py:250: UserWarning: DatetimeFormatter scales now only accept a single format. Using the first provided: '%m/%Y'\n",
      "  formatter=DatetimeTickFormatter(days=['%d %b', '%a %d'],\n",
      "/Users/ivotonioni/miniconda3/envs/backtest_env/lib/python3.9/site-packages/backtesting/_plotting.py:455: FutureWarning: 'M' is deprecated and will be removed in a future version, please use 'ME' instead.\n",
      "  df2 = (df.assign(_width=1).set_index('datetime')\n",
      "/Users/ivotonioni/miniconda3/envs/backtest_env/lib/python3.9/site-packages/backtesting/_plotting.py:659: UserWarning: found multiple competing values for 'toolbar.active_drag' property; using the latest value\n",
      "  fig = gridplot(\n",
      "/Users/ivotonioni/miniconda3/envs/backtest_env/lib/python3.9/site-packages/backtesting/_plotting.py:659: UserWarning: found multiple competing values for 'toolbar.active_scroll' property; using the latest value\n",
      "  fig = gridplot(\n"
     ]
    },
    {
     "data": {
      "text/html": [
       "<div style=\"display: table;\"><div style=\"display: table-row;\"><div style=\"display: table-cell;\"><b title=\"bokeh.models.plots.GridPlot\">GridPlot</b>(</div><div style=\"display: table-cell;\">id&nbsp;=&nbsp;'p1320', <span id=\"p1348\" style=\"cursor: pointer;\">&hellip;)</span></div></div><div class=\"p1347\" style=\"display: none;\"><div style=\"display: table-cell;\"></div><div style=\"display: table-cell;\">align&nbsp;=&nbsp;'auto',</div></div><div class=\"p1347\" style=\"display: none;\"><div style=\"display: table-cell;\"></div><div style=\"display: table-cell;\">aspect_ratio&nbsp;=&nbsp;None,</div></div><div class=\"p1347\" style=\"display: none;\"><div style=\"display: table-cell;\"></div><div style=\"display: table-cell;\">children&nbsp;=&nbsp;[(figure(id='p1046', ...), 0, 0), (figure(id='p1143', ...), 1, 0), (figure(id='p1002', ...), 2, 0), (figure(id='p1198', ...), 3, 0)],</div></div><div class=\"p1347\" style=\"display: none;\"><div style=\"display: table-cell;\"></div><div style=\"display: table-cell;\">cols&nbsp;=&nbsp;None,</div></div><div class=\"p1347\" style=\"display: none;\"><div style=\"display: table-cell;\"></div><div style=\"display: table-cell;\">context_menu&nbsp;=&nbsp;None,</div></div><div class=\"p1347\" style=\"display: none;\"><div style=\"display: table-cell;\"></div><div style=\"display: table-cell;\">css_classes&nbsp;=&nbsp;[],</div></div><div class=\"p1347\" style=\"display: none;\"><div style=\"display: table-cell;\"></div><div style=\"display: table-cell;\">css_variables&nbsp;=&nbsp;{},</div></div><div class=\"p1347\" style=\"display: none;\"><div style=\"display: table-cell;\"></div><div style=\"display: table-cell;\">disabled&nbsp;=&nbsp;False,</div></div><div class=\"p1347\" style=\"display: none;\"><div style=\"display: table-cell;\"></div><div style=\"display: table-cell;\">elements&nbsp;=&nbsp;[],</div></div><div class=\"p1347\" style=\"display: none;\"><div style=\"display: table-cell;\"></div><div style=\"display: table-cell;\">flow_mode&nbsp;=&nbsp;'block',</div></div><div class=\"p1347\" style=\"display: none;\"><div style=\"display: table-cell;\"></div><div style=\"display: table-cell;\">height&nbsp;=&nbsp;None,</div></div><div class=\"p1347\" style=\"display: none;\"><div style=\"display: table-cell;\"></div><div style=\"display: table-cell;\">height_policy&nbsp;=&nbsp;'auto',</div></div><div class=\"p1347\" style=\"display: none;\"><div style=\"display: table-cell;\"></div><div style=\"display: table-cell;\">js_event_callbacks&nbsp;=&nbsp;{},</div></div><div class=\"p1347\" style=\"display: none;\"><div style=\"display: table-cell;\"></div><div style=\"display: table-cell;\">js_property_callbacks&nbsp;=&nbsp;{},</div></div><div class=\"p1347\" style=\"display: none;\"><div style=\"display: table-cell;\"></div><div style=\"display: table-cell;\">margin&nbsp;=&nbsp;None,</div></div><div class=\"p1347\" style=\"display: none;\"><div style=\"display: table-cell;\"></div><div style=\"display: table-cell;\">max_height&nbsp;=&nbsp;None,</div></div><div class=\"p1347\" style=\"display: none;\"><div style=\"display: table-cell;\"></div><div style=\"display: table-cell;\">max_width&nbsp;=&nbsp;None,</div></div><div class=\"p1347\" style=\"display: none;\"><div style=\"display: table-cell;\"></div><div style=\"display: table-cell;\">min_height&nbsp;=&nbsp;None,</div></div><div class=\"p1347\" style=\"display: none;\"><div style=\"display: table-cell;\"></div><div style=\"display: table-cell;\">min_width&nbsp;=&nbsp;None,</div></div><div class=\"p1347\" style=\"display: none;\"><div style=\"display: table-cell;\"></div><div style=\"display: table-cell;\">name&nbsp;=&nbsp;None,</div></div><div class=\"p1347\" style=\"display: none;\"><div style=\"display: table-cell;\"></div><div style=\"display: table-cell;\">resizable&nbsp;=&nbsp;False,</div></div><div class=\"p1347\" style=\"display: none;\"><div style=\"display: table-cell;\"></div><div style=\"display: table-cell;\">rows&nbsp;=&nbsp;None,</div></div><div class=\"p1347\" style=\"display: none;\"><div style=\"display: table-cell;\"></div><div style=\"display: table-cell;\">sizing_mode&nbsp;=&nbsp;'stretch_width',</div></div><div class=\"p1347\" style=\"display: none;\"><div style=\"display: table-cell;\"></div><div style=\"display: table-cell;\">spacing&nbsp;=&nbsp;0,</div></div><div class=\"p1347\" style=\"display: none;\"><div style=\"display: table-cell;\"></div><div style=\"display: table-cell;\">styles&nbsp;=&nbsp;{},</div></div><div class=\"p1347\" style=\"display: none;\"><div style=\"display: table-cell;\"></div><div style=\"display: table-cell;\">stylesheets&nbsp;=&nbsp;[],</div></div><div class=\"p1347\" style=\"display: none;\"><div style=\"display: table-cell;\"></div><div style=\"display: table-cell;\">subscribed_events&nbsp;=&nbsp;PropertyValueSet(),</div></div><div class=\"p1347\" style=\"display: none;\"><div style=\"display: table-cell;\"></div><div style=\"display: table-cell;\">syncable&nbsp;=&nbsp;True,</div></div><div class=\"p1347\" style=\"display: none;\"><div style=\"display: table-cell;\"></div><div style=\"display: table-cell;\">tags&nbsp;=&nbsp;[],</div></div><div class=\"p1347\" style=\"display: none;\"><div style=\"display: table-cell;\"></div><div style=\"display: table-cell;\">toolbar&nbsp;=&nbsp;Toolbar(id='p1319', ...),</div></div><div class=\"p1347\" style=\"display: none;\"><div style=\"display: table-cell;\"></div><div style=\"display: table-cell;\">toolbar_location&nbsp;=&nbsp;'right',</div></div><div class=\"p1347\" style=\"display: none;\"><div style=\"display: table-cell;\"></div><div style=\"display: table-cell;\">visible&nbsp;=&nbsp;True,</div></div><div class=\"p1347\" style=\"display: none;\"><div style=\"display: table-cell;\"></div><div style=\"display: table-cell;\">width&nbsp;=&nbsp;None,</div></div><div class=\"p1347\" style=\"display: none;\"><div style=\"display: table-cell;\"></div><div style=\"display: table-cell;\">width_policy&nbsp;=&nbsp;'auto')</div></div></div>\n",
       "<script>\n",
       "(function() {\n",
       "  let expanded = false;\n",
       "  const ellipsis = document.getElementById(\"p1348\");\n",
       "  ellipsis.addEventListener(\"click\", function() {\n",
       "    const rows = document.getElementsByClassName(\"p1347\");\n",
       "    for (let i = 0; i < rows.length; i++) {\n",
       "      const el = rows[i];\n",
       "      el.style.display = expanded ? \"none\" : \"table-row\";\n",
       "    }\n",
       "    ellipsis.innerHTML = expanded ? \"&hellip;)\" : \"&lsaquo;&lsaquo;&lsaquo;\";\n",
       "    expanded = !expanded;\n",
       "  });\n",
       "})();\n",
       "</script>\n"
      ],
      "text/plain": [
       "GridPlot(id='p1320', ...)"
      ]
     },
     "execution_count": 4,
     "metadata": {},
     "output_type": "execute_result"
    }
   ],
   "source": [
    "bt.plot()"
   ]
  },
  {
   "cell_type": "code",
   "execution_count": 21,
   "metadata": {},
   "outputs": [
    {
     "name": "stderr",
     "output_type": "stream",
     "text": [
      "/Users/ivotonioni/miniconda3/envs/backtest_env/lib/python3.9/site-packages/backtesting/backtesting.py:1488: UserWarning: Searching for best of 4500 configurations.\n",
      "  output = _optimize_grid()\n",
      "/Users/ivotonioni/miniconda3/envs/backtest_env/lib/python3.9/site-packages/backtesting/backtesting.py:1375: UserWarning: For multiprocessing support in `Backtest.optimize()` set multiprocessing start method to 'fork'.\n",
      "  warnings.warn(\"For multiprocessing support in `Backtest.optimize()` \"\n"
     ]
    },
    {
     "data": {
      "text/plain": [
       "Start                     2020-01-01 00:00:00\n",
       "End                       2024-12-22 00:00:00\n",
       "Duration                   1817 days 00:00:00\n",
       "Exposure Time [%]                   98.624862\n",
       "Equity Final [$]              14627275.854893\n",
       "Equity Peak [$]               15964490.698643\n",
       "Return [%]                        7213.637927\n",
       "Buy & Hold Return [%]             1223.254205\n",
       "Return (Ann.) [%]                  136.734862\n",
       "Volatility (Ann.) [%]              129.685413\n",
       "Sharpe Ratio                         1.054358\n",
       "Sortino Ratio                        4.705392\n",
       "Calmar Ratio                         4.920884\n",
       "Max. Drawdown [%]                  -27.786644\n",
       "Avg. Drawdown [%]                     -5.4275\n",
       "Max. Drawdown Duration      432 days 00:00:00\n",
       "Avg. Drawdown Duration       18 days 00:00:00\n",
       "# Trades                                  512\n",
       "Win Rate [%]                        29.882812\n",
       "Best Trade [%]                     407.925115\n",
       "Worst Trade [%]                     -2.164259\n",
       "Avg. Trade [%]                       0.845897\n",
       "Max. Trade Duration         197 days 00:00:00\n",
       "Avg. Trade Duration           3 days 00:00:00\n",
       "Profit Factor                         3.18497\n",
       "Expectancy [%]                       1.439768\n",
       "SQN                                  2.042319\n",
       "_strategy                 RSI(rsi_period=2...\n",
       "_equity_curve                             ...\n",
       "_trades                        Size  Entry...\n",
       "dtype: object"
      ]
     },
     "execution_count": 21,
     "metadata": {},
     "output_type": "execute_result"
    }
   ],
   "source": [
    "class RSI(Strategy):\n",
    "    rsi_period = 22 # atributo de clase\n",
    "    sl_percent = 0.95\n",
    "    out_position = 30\n",
    "    def init(self):\n",
    "        self.rsi = self.I(talib.RSI, self.data.Close, timeperiod=self.rsi_period) # accedo al atributo de la clase desde una instancia. \n",
    "        \n",
    "    def next(self):\n",
    "        price = self.data.Close[-1]\n",
    "\n",
    "        if self.rsi[-1] < self.out_position:\n",
    "            self.position.close()\n",
    "\n",
    "        if self.position.is_long:\n",
    "            return\n",
    "        \n",
    "        self.buy(sl= price*self.sl_percent)\n",
    "\n",
    "bt = Backtest(data, RSI, cash=200000)\n",
    "starts = bt.optimize(rsi_period=range(5, 30, 1),\n",
    "            sl_percent=[0.9,0.91,0.92,0.93,0.94,0.95,0.96,0.97,0.98,0.99],\n",
    "            out_position=range(14, 50, 2),\n",
    "            maximize='Return [%]')\n",
    "starts\n"
   ]
  },
  {
   "cell_type": "code",
   "execution_count": 23,
   "metadata": {},
   "outputs": [
    {
     "data": {
      "text/plain": [
       "<Strategy RSI(rsi_period=23,sl_percent=0.99,out_position=48)>"
      ]
     },
     "execution_count": 23,
     "metadata": {},
     "output_type": "execute_result"
    }
   ],
   "source": [
    "starts['_strategy']"
   ]
  },
  {
   "cell_type": "code",
   "execution_count": 8,
   "metadata": {},
   "outputs": [
    {
     "name": "stderr",
     "output_type": "stream",
     "text": [
      "BokehDeprecationWarning: Passing lists of formats for DatetimeTickFormatter scales was deprecated in Bokeh 3.0. Configure a single string format for each scale\n",
      "/Users/ivotonioni/miniconda3/envs/backtest_env/lib/python3.9/site-packages/backtesting/_plotting.py:250: UserWarning: DatetimeFormatter scales now only accept a single format. Using the first provided: '%d %b'\n",
      "  formatter=DatetimeTickFormatter(days=['%d %b', '%a %d'],\n",
      "BokehDeprecationWarning: Passing lists of formats for DatetimeTickFormatter scales was deprecated in Bokeh 3.0. Configure a single string format for each scale\n",
      "/Users/ivotonioni/miniconda3/envs/backtest_env/lib/python3.9/site-packages/backtesting/_plotting.py:250: UserWarning: DatetimeFormatter scales now only accept a single format. Using the first provided: '%m/%Y'\n",
      "  formatter=DatetimeTickFormatter(days=['%d %b', '%a %d'],\n",
      "/Users/ivotonioni/miniconda3/envs/backtest_env/lib/python3.9/site-packages/backtesting/_plotting.py:455: FutureWarning: 'M' is deprecated and will be removed in a future version, please use 'ME' instead.\n",
      "  df2 = (df.assign(_width=1).set_index('datetime')\n",
      "/Users/ivotonioni/miniconda3/envs/backtest_env/lib/python3.9/site-packages/backtesting/_plotting.py:659: UserWarning: found multiple competing values for 'toolbar.active_drag' property; using the latest value\n",
      "  fig = gridplot(\n",
      "/Users/ivotonioni/miniconda3/envs/backtest_env/lib/python3.9/site-packages/backtesting/_plotting.py:659: UserWarning: found multiple competing values for 'toolbar.active_scroll' property; using the latest value\n",
      "  fig = gridplot(\n"
     ]
    },
    {
     "data": {
      "text/html": [
       "<div style=\"display: table;\"><div style=\"display: table-row;\"><div style=\"display: table-cell;\"><b title=\"bokeh.models.plots.GridPlot\">GridPlot</b>(</div><div style=\"display: table-cell;\">id&nbsp;=&nbsp;'p1705', <span id=\"p1733\" style=\"cursor: pointer;\">&hellip;)</span></div></div><div class=\"p1732\" style=\"display: none;\"><div style=\"display: table-cell;\"></div><div style=\"display: table-cell;\">align&nbsp;=&nbsp;'auto',</div></div><div class=\"p1732\" style=\"display: none;\"><div style=\"display: table-cell;\"></div><div style=\"display: table-cell;\">aspect_ratio&nbsp;=&nbsp;None,</div></div><div class=\"p1732\" style=\"display: none;\"><div style=\"display: table-cell;\"></div><div style=\"display: table-cell;\">children&nbsp;=&nbsp;[(figure(id='p1394', ...), 0, 0), (figure(id='p1491', ...), 1, 0), (figure(id='p1350', ...), 2, 0), (figure(id='p1546', ...), 3, 0), (figure(id='p1641', ...), 4, 0)],</div></div><div class=\"p1732\" style=\"display: none;\"><div style=\"display: table-cell;\"></div><div style=\"display: table-cell;\">cols&nbsp;=&nbsp;None,</div></div><div class=\"p1732\" style=\"display: none;\"><div style=\"display: table-cell;\"></div><div style=\"display: table-cell;\">context_menu&nbsp;=&nbsp;None,</div></div><div class=\"p1732\" style=\"display: none;\"><div style=\"display: table-cell;\"></div><div style=\"display: table-cell;\">css_classes&nbsp;=&nbsp;[],</div></div><div class=\"p1732\" style=\"display: none;\"><div style=\"display: table-cell;\"></div><div style=\"display: table-cell;\">css_variables&nbsp;=&nbsp;{},</div></div><div class=\"p1732\" style=\"display: none;\"><div style=\"display: table-cell;\"></div><div style=\"display: table-cell;\">disabled&nbsp;=&nbsp;False,</div></div><div class=\"p1732\" style=\"display: none;\"><div style=\"display: table-cell;\"></div><div style=\"display: table-cell;\">elements&nbsp;=&nbsp;[],</div></div><div class=\"p1732\" style=\"display: none;\"><div style=\"display: table-cell;\"></div><div style=\"display: table-cell;\">flow_mode&nbsp;=&nbsp;'block',</div></div><div class=\"p1732\" style=\"display: none;\"><div style=\"display: table-cell;\"></div><div style=\"display: table-cell;\">height&nbsp;=&nbsp;None,</div></div><div class=\"p1732\" style=\"display: none;\"><div style=\"display: table-cell;\"></div><div style=\"display: table-cell;\">height_policy&nbsp;=&nbsp;'auto',</div></div><div class=\"p1732\" style=\"display: none;\"><div style=\"display: table-cell;\"></div><div style=\"display: table-cell;\">js_event_callbacks&nbsp;=&nbsp;{},</div></div><div class=\"p1732\" style=\"display: none;\"><div style=\"display: table-cell;\"></div><div style=\"display: table-cell;\">js_property_callbacks&nbsp;=&nbsp;{},</div></div><div class=\"p1732\" style=\"display: none;\"><div style=\"display: table-cell;\"></div><div style=\"display: table-cell;\">margin&nbsp;=&nbsp;None,</div></div><div class=\"p1732\" style=\"display: none;\"><div style=\"display: table-cell;\"></div><div style=\"display: table-cell;\">max_height&nbsp;=&nbsp;None,</div></div><div class=\"p1732\" style=\"display: none;\"><div style=\"display: table-cell;\"></div><div style=\"display: table-cell;\">max_width&nbsp;=&nbsp;None,</div></div><div class=\"p1732\" style=\"display: none;\"><div style=\"display: table-cell;\"></div><div style=\"display: table-cell;\">min_height&nbsp;=&nbsp;None,</div></div><div class=\"p1732\" style=\"display: none;\"><div style=\"display: table-cell;\"></div><div style=\"display: table-cell;\">min_width&nbsp;=&nbsp;None,</div></div><div class=\"p1732\" style=\"display: none;\"><div style=\"display: table-cell;\"></div><div style=\"display: table-cell;\">name&nbsp;=&nbsp;None,</div></div><div class=\"p1732\" style=\"display: none;\"><div style=\"display: table-cell;\"></div><div style=\"display: table-cell;\">resizable&nbsp;=&nbsp;False,</div></div><div class=\"p1732\" style=\"display: none;\"><div style=\"display: table-cell;\"></div><div style=\"display: table-cell;\">rows&nbsp;=&nbsp;None,</div></div><div class=\"p1732\" style=\"display: none;\"><div style=\"display: table-cell;\"></div><div style=\"display: table-cell;\">sizing_mode&nbsp;=&nbsp;'stretch_width',</div></div><div class=\"p1732\" style=\"display: none;\"><div style=\"display: table-cell;\"></div><div style=\"display: table-cell;\">spacing&nbsp;=&nbsp;0,</div></div><div class=\"p1732\" style=\"display: none;\"><div style=\"display: table-cell;\"></div><div style=\"display: table-cell;\">styles&nbsp;=&nbsp;{},</div></div><div class=\"p1732\" style=\"display: none;\"><div style=\"display: table-cell;\"></div><div style=\"display: table-cell;\">stylesheets&nbsp;=&nbsp;[],</div></div><div class=\"p1732\" style=\"display: none;\"><div style=\"display: table-cell;\"></div><div style=\"display: table-cell;\">subscribed_events&nbsp;=&nbsp;PropertyValueSet(),</div></div><div class=\"p1732\" style=\"display: none;\"><div style=\"display: table-cell;\"></div><div style=\"display: table-cell;\">syncable&nbsp;=&nbsp;True,</div></div><div class=\"p1732\" style=\"display: none;\"><div style=\"display: table-cell;\"></div><div style=\"display: table-cell;\">tags&nbsp;=&nbsp;[],</div></div><div class=\"p1732\" style=\"display: none;\"><div style=\"display: table-cell;\"></div><div style=\"display: table-cell;\">toolbar&nbsp;=&nbsp;Toolbar(id='p1704', ...),</div></div><div class=\"p1732\" style=\"display: none;\"><div style=\"display: table-cell;\"></div><div style=\"display: table-cell;\">toolbar_location&nbsp;=&nbsp;'right',</div></div><div class=\"p1732\" style=\"display: none;\"><div style=\"display: table-cell;\"></div><div style=\"display: table-cell;\">visible&nbsp;=&nbsp;True,</div></div><div class=\"p1732\" style=\"display: none;\"><div style=\"display: table-cell;\"></div><div style=\"display: table-cell;\">width&nbsp;=&nbsp;None,</div></div><div class=\"p1732\" style=\"display: none;\"><div style=\"display: table-cell;\"></div><div style=\"display: table-cell;\">width_policy&nbsp;=&nbsp;'auto')</div></div></div>\n",
       "<script>\n",
       "(function() {\n",
       "  let expanded = false;\n",
       "  const ellipsis = document.getElementById(\"p1733\");\n",
       "  ellipsis.addEventListener(\"click\", function() {\n",
       "    const rows = document.getElementsByClassName(\"p1732\");\n",
       "    for (let i = 0; i < rows.length; i++) {\n",
       "      const el = rows[i];\n",
       "      el.style.display = expanded ? \"none\" : \"table-row\";\n",
       "    }\n",
       "    ellipsis.innerHTML = expanded ? \"&hellip;)\" : \"&lsaquo;&lsaquo;&lsaquo;\";\n",
       "    expanded = !expanded;\n",
       "  });\n",
       "})();\n",
       "</script>\n"
      ],
      "text/plain": [
       "GridPlot(id='p1705', ...)"
      ]
     },
     "execution_count": 8,
     "metadata": {},
     "output_type": "execute_result"
    }
   ],
   "source": [
    "bt.plot()"
   ]
  }
 ],
 "metadata": {
  "kernelspec": {
   "display_name": "backtest_env",
   "language": "python",
   "name": "python3"
  },
  "language_info": {
   "codemirror_mode": {
    "name": "ipython",
    "version": 3
   },
   "file_extension": ".py",
   "mimetype": "text/x-python",
   "name": "python",
   "nbconvert_exporter": "python",
   "pygments_lexer": "ipython3",
   "version": "3.9.21"
  }
 },
 "nbformat": 4,
 "nbformat_minor": 2
}
