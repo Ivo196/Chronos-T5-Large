{
 "cells": [
  {
   "cell_type": "code",
   "execution_count": 3,
   "metadata": {},
   "outputs": [],
   "source": [
    "token = 'INTC'\n",
    "token_indicators = f'{token}-INDICATORS'"
   ]
  },
  {
   "cell_type": "code",
   "execution_count": 4,
   "metadata": {},
   "outputs": [
    {
     "name": "stderr",
     "output_type": "stream",
     "text": [
      "/var/folders/vp/2hwjkxh92qsdfnjr9y_xpmm00000gn/T/ipykernel_1338/3177959979.py:3: FutureWarning: YF.download() has changed argument auto_adjust default to True\n",
      "  data = yf.download(token, interval='1d', period='max')\n",
      "[*********************100%***********************]  1 of 1 completed\n"
     ]
    },
    {
     "data": {
      "text/html": [
       "<div>\n",
       "<style scoped>\n",
       "    .dataframe tbody tr th:only-of-type {\n",
       "        vertical-align: middle;\n",
       "    }\n",
       "\n",
       "    .dataframe tbody tr th {\n",
       "        vertical-align: top;\n",
       "    }\n",
       "\n",
       "    .dataframe thead th {\n",
       "        text-align: right;\n",
       "    }\n",
       "</style>\n",
       "<table border=\"1\" class=\"dataframe\">\n",
       "  <thead>\n",
       "    <tr style=\"text-align: right;\">\n",
       "      <th>Price</th>\n",
       "      <th>Close</th>\n",
       "      <th>High</th>\n",
       "      <th>Low</th>\n",
       "      <th>Open</th>\n",
       "      <th>Volume</th>\n",
       "    </tr>\n",
       "    <tr>\n",
       "      <th>Date</th>\n",
       "      <th></th>\n",
       "      <th></th>\n",
       "      <th></th>\n",
       "      <th></th>\n",
       "      <th></th>\n",
       "    </tr>\n",
       "  </thead>\n",
       "  <tbody>\n",
       "    <tr>\n",
       "      <th>2025-08-18</th>\n",
       "      <td>23.660000</td>\n",
       "      <td>24.900000</td>\n",
       "      <td>23.209999</td>\n",
       "      <td>24.000000</td>\n",
       "      <td>212515600</td>\n",
       "    </tr>\n",
       "    <tr>\n",
       "      <th>2025-08-19</th>\n",
       "      <td>25.309999</td>\n",
       "      <td>26.530001</td>\n",
       "      <td>24.940001</td>\n",
       "      <td>24.940001</td>\n",
       "      <td>297659200</td>\n",
       "    </tr>\n",
       "    <tr>\n",
       "      <th>2025-08-20</th>\n",
       "      <td>23.540001</td>\n",
       "      <td>24.930000</td>\n",
       "      <td>23.330000</td>\n",
       "      <td>24.900000</td>\n",
       "      <td>161149400</td>\n",
       "    </tr>\n",
       "    <tr>\n",
       "      <th>2025-08-21</th>\n",
       "      <td>23.500000</td>\n",
       "      <td>23.570000</td>\n",
       "      <td>22.780001</td>\n",
       "      <td>23.530001</td>\n",
       "      <td>97718300</td>\n",
       "    </tr>\n",
       "    <tr>\n",
       "      <th>2025-08-22</th>\n",
       "      <td>24.799999</td>\n",
       "      <td>25.230000</td>\n",
       "      <td>23.650000</td>\n",
       "      <td>23.650000</td>\n",
       "      <td>197891400</td>\n",
       "    </tr>\n",
       "  </tbody>\n",
       "</table>\n",
       "</div>"
      ],
      "text/plain": [
       "Price           Close       High        Low       Open     Volume\n",
       "Date                                                             \n",
       "2025-08-18  23.660000  24.900000  23.209999  24.000000  212515600\n",
       "2025-08-19  25.309999  26.530001  24.940001  24.940001  297659200\n",
       "2025-08-20  23.540001  24.930000  23.330000  24.900000  161149400\n",
       "2025-08-21  23.500000  23.570000  22.780001  23.530001   97718300\n",
       "2025-08-22  24.799999  25.230000  23.650000  23.650000  197891400"
      ]
     },
     "execution_count": 4,
     "metadata": {},
     "output_type": "execute_result"
    }
   ],
   "source": [
    "import yfinance as yf\n",
    "\n",
    "data = yf.download(token, interval='1d', period='max')\n",
    "data = data.droplevel('Ticker', axis=1)\n",
    "data.to_csv(f'../data/{token}.csv')\n",
    "data.tail()"
   ]
  },
  {
   "cell_type": "code",
   "execution_count": 5,
   "metadata": {},
   "outputs": [
    {
     "name": "stdout",
     "output_type": "stream",
     "text": [
      "             Date      Close       High        Low       Open     Volume  \\\n",
      "11448  2025-08-18  23.660000  24.900000  23.209999  24.000000  212515600   \n",
      "11449  2025-08-19  25.309999  26.530001  24.940001  24.940001  297659200   \n",
      "11450  2025-08-20  23.540001  24.930000  23.330000  24.900000  161149400   \n",
      "11451  2025-08-21  23.500000  23.570000  22.780001  23.530001   97718300   \n",
      "11452  2025-08-22  24.799999  25.230000  23.650000  23.650000  197891400   \n",
      "\n",
      "           ema20      ema50      rsi10      rsi30      macd    signal  \\\n",
      "11448  21.868025  21.684996  65.022168  56.250773  0.348019 -0.121289   \n",
      "11449  22.195832  21.827153  72.658591  60.333936  0.574202  0.017809   \n",
      "11450  22.323848  21.894324  57.655400  54.671543  0.603670  0.134981   \n",
      "11451  22.435863  21.957292  57.357997  54.551851  0.616687  0.231322   \n",
      "11452  22.661019  22.068770  64.053620  57.667690  0.723562  0.329770   \n",
      "\n",
      "           hist  Price-Up  \n",
      "11448  0.469308         1  \n",
      "11449  0.556393         0  \n",
      "11450  0.468689         0  \n",
      "11451  0.385365         1  \n",
      "11452  0.393792         0  \n"
     ]
    }
   ],
   "source": [
    "import pandas as pd\n",
    "from ta.trend import EMAIndicator, MACD\n",
    "from ta.momentum import RSIIndicator\n",
    "\n",
    "# Carga tus datos en 'data' con columna 'Close'\n",
    "data = pd.read_csv(f'../data/{token}.csv')\n",
    "\n",
    "# EMAs\n",
    "data['ema20'] = EMAIndicator(data['Close'], window=20).ema_indicator()\n",
    "data['ema50'] = EMAIndicator(data['Close'], window=50).ema_indicator()\n",
    "\n",
    "# RSIs\n",
    "data['rsi10']  = RSIIndicator(data['Close'], window=10).rsi()\n",
    "data['rsi30']  = RSIIndicator(data['Close'], window=30).rsi()\n",
    "\n",
    "# MACD\n",
    "macd_ind = MACD(data['Close'], window_fast=12, window_slow=26, window_sign=9)\n",
    "data['macd']   = macd_ind.macd()\n",
    "data['signal'] = macd_ind.macd_signal()\n",
    "data['hist']   = macd_ind.macd_diff()\n",
    "\n",
    "# Señal de subida de precio\n",
    "data['Price-Up'] = (data['Close'].shift(-1) > data['Close']).astype(int)\n",
    "\n",
    "# Limpieza y exportación\n",
    "data.dropna(inplace=True)\n",
    "data.to_csv(f'../data/{token_indicators}.csv', index=False)\n",
    "data\n",
    "print(data.tail())\n"
   ]
  },
  {
   "cell_type": "markdown",
   "metadata": {},
   "source": [
    "# Stream_Crypto_Data "
   ]
  },
  {
   "cell_type": "code",
   "execution_count": 7,
   "metadata": {},
   "outputs": [
    {
     "ename": "ModuleNotFoundError",
     "evalue": "No module named 'websocket'",
     "output_type": "error",
     "traceback": [
      "\u001b[31m---------------------------------------------------------------------------\u001b[39m",
      "\u001b[31mModuleNotFoundError\u001b[39m                       Traceback (most recent call last)",
      "\u001b[36mCell\u001b[39m\u001b[36m \u001b[39m\u001b[32mIn[7]\u001b[39m\u001b[32m, line 2\u001b[39m\n\u001b[32m      1\u001b[39m \u001b[38;5;28;01mimport\u001b[39;00m\u001b[38;5;250m \u001b[39m\u001b[34;01mjson\u001b[39;00m \n\u001b[32m----> \u001b[39m\u001b[32m2\u001b[39m \u001b[38;5;28;01mimport\u001b[39;00m\u001b[38;5;250m \u001b[39m\u001b[34;01mwebsocket\u001b[39;00m\n\u001b[32m      3\u001b[39m \u001b[38;5;28;01mimport\u001b[39;00m\u001b[38;5;250m \u001b[39m\u001b[34;01mpandas\u001b[39;00m\u001b[38;5;250m \u001b[39m\u001b[38;5;28;01mas\u001b[39;00m\u001b[38;5;250m \u001b[39m\u001b[34;01mpd\u001b[39;00m\n\u001b[32m      4\u001b[39m \u001b[38;5;28;01mimport\u001b[39;00m\u001b[38;5;250m \u001b[39m\u001b[34;01mnumpy\u001b[39;00m\u001b[38;5;250m \u001b[39m\u001b[38;5;28;01mas\u001b[39;00m\u001b[38;5;250m \u001b[39m\u001b[34;01mnp\u001b[39;00m\n",
      "\u001b[31mModuleNotFoundError\u001b[39m: No module named 'websocket'"
     ]
    }
   ],
   "source": [
    "import json \n",
    "import websocket\n",
    "import pandas as pd\n",
    "import numpy as np\n",
    "\n",
    "coin = 'btcusdt@kline_1m'\n",
    "socket = 'wss://stream.binance.com:9443/stream?streams=' + coin\n",
    "print(socket)\n"
   ]
  },
  {
   "cell_type": "code",
   "execution_count": null,
   "metadata": {},
   "outputs": [],
   "source": [
    "def extract_ohlcv(source):\n",
    "    event_time = pd.to_datetime(source['data']['E'], unit='ms')\n",
    "    open = source['data']['k']['o']\n",
    "    high = source['data']['k']['h']\n",
    "    low = source['data']['k']['l']\n",
    "    close = source['data']['k']['c']   \n",
    "    volume = source['data']['k']['v']\n",
    "\n",
    "    data = {'Open': open, 'High': high, 'Low': low, 'Close': close, 'Volume': volume}\n",
    "\n",
    "    df = pd.DataFrame(data, index=[event_time])\n",
    "    df.index.name = 'timestamp'\n",
    "    df = df.astype(float)\n",
    "    df = df.reset_index()\n",
    "    print(df)\n",
    "    return df\n",
    "\n",
    "def on_message(ws, message):\n",
    "    message = json.loads(message)\n",
    "    extract_ohlcv(message)"
   ]
  },
  {
   "cell_type": "code",
   "execution_count": null,
   "metadata": {},
   "outputs": [
    {
     "name": "stdout",
     "output_type": "stream",
     "text": [
      "                timestamp      Open     High       Low     Close    Volume\n",
      "0 2025-02-27 17:53:18.014  84573.53  84593.7  84494.26  84494.26  10.41565\n",
      "                timestamp      Open     High       Low     Close    Volume\n",
      "0 2025-02-27 17:53:20.015  84573.53  84593.7  84494.26  84494.27  10.43499\n",
      "                timestamp      Open     High       Low     Close    Volume\n",
      "0 2025-02-27 17:53:22.029  84573.53  84593.7  84494.26  84494.27  10.61498\n"
     ]
    },
    {
     "data": {
      "text/plain": [
       "True"
      ]
     },
     "execution_count": 6,
     "metadata": {},
     "output_type": "execute_result"
    }
   ],
   "source": [
    "ws = websocket.WebSocketApp(socket, on_message=on_message)\n",
    "ws.run_forever()"
   ]
  }
 ],
 "metadata": {
  "kernelspec": {
   "display_name": "env",
   "language": "python",
   "name": "python3"
  },
  "language_info": {
   "codemirror_mode": {
    "name": "ipython",
    "version": 3
   },
   "file_extension": ".py",
   "mimetype": "text/x-python",
   "name": "python",
   "nbconvert_exporter": "python",
   "pygments_lexer": "ipython3",
   "version": "3.13.5"
  }
 },
 "nbformat": 4,
 "nbformat_minor": 2
}
