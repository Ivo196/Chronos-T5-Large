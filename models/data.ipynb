{
 "cells": [
  {
   "cell_type": "code",
   "execution_count": 2,
   "metadata": {},
   "outputs": [
    {
     "name": "stderr",
     "output_type": "stream",
     "text": [
      "C:\\Users\\ivoto\\AppData\\Local\\Temp\\ipykernel_7124\\3976575668.py:5: FutureWarning: YF.download() has changed argument auto_adjust default to True\n",
      "  data = yf.download(token, interval='1d', period='max')\n",
      "[*********************100%***********************]  1 of 1 completed\n"
     ]
    },
    {
     "data": {
      "text/html": [
       "<div>\n",
       "<style scoped>\n",
       "    .dataframe tbody tr th:only-of-type {\n",
       "        vertical-align: middle;\n",
       "    }\n",
       "\n",
       "    .dataframe tbody tr th {\n",
       "        vertical-align: top;\n",
       "    }\n",
       "\n",
       "    .dataframe thead th {\n",
       "        text-align: right;\n",
       "    }\n",
       "</style>\n",
       "<table border=\"1\" class=\"dataframe\">\n",
       "  <thead>\n",
       "    <tr style=\"text-align: right;\">\n",
       "      <th>Price</th>\n",
       "      <th>Close</th>\n",
       "      <th>High</th>\n",
       "      <th>Low</th>\n",
       "      <th>Open</th>\n",
       "      <th>Volume</th>\n",
       "    </tr>\n",
       "    <tr>\n",
       "      <th>Date</th>\n",
       "      <th></th>\n",
       "      <th></th>\n",
       "      <th></th>\n",
       "      <th></th>\n",
       "      <th></th>\n",
       "    </tr>\n",
       "  </thead>\n",
       "  <tbody>\n",
       "    <tr>\n",
       "      <th>2014-09-17</th>\n",
       "      <td>457.334015</td>\n",
       "      <td>468.174011</td>\n",
       "      <td>452.421997</td>\n",
       "      <td>465.864014</td>\n",
       "      <td>21056800</td>\n",
       "    </tr>\n",
       "    <tr>\n",
       "      <th>2014-09-18</th>\n",
       "      <td>424.440002</td>\n",
       "      <td>456.859985</td>\n",
       "      <td>413.104004</td>\n",
       "      <td>456.859985</td>\n",
       "      <td>34483200</td>\n",
       "    </tr>\n",
       "    <tr>\n",
       "      <th>2014-09-19</th>\n",
       "      <td>394.795990</td>\n",
       "      <td>427.834991</td>\n",
       "      <td>384.532013</td>\n",
       "      <td>424.102997</td>\n",
       "      <td>37919700</td>\n",
       "    </tr>\n",
       "    <tr>\n",
       "      <th>2014-09-20</th>\n",
       "      <td>408.903992</td>\n",
       "      <td>423.295990</td>\n",
       "      <td>389.882996</td>\n",
       "      <td>394.673004</td>\n",
       "      <td>36863600</td>\n",
       "    </tr>\n",
       "    <tr>\n",
       "      <th>2014-09-21</th>\n",
       "      <td>398.821014</td>\n",
       "      <td>412.425995</td>\n",
       "      <td>393.181000</td>\n",
       "      <td>408.084991</td>\n",
       "      <td>26580100</td>\n",
       "    </tr>\n",
       "    <tr>\n",
       "      <th>...</th>\n",
       "      <td>...</td>\n",
       "      <td>...</td>\n",
       "      <td>...</td>\n",
       "      <td>...</td>\n",
       "      <td>...</td>\n",
       "    </tr>\n",
       "    <tr>\n",
       "      <th>2025-08-03</th>\n",
       "      <td>114217.671875</td>\n",
       "      <td>114747.421875</td>\n",
       "      <td>111943.804688</td>\n",
       "      <td>112525.804688</td>\n",
       "      <td>48099615826</td>\n",
       "    </tr>\n",
       "    <tr>\n",
       "      <th>2025-08-04</th>\n",
       "      <td>115071.882812</td>\n",
       "      <td>115729.468750</td>\n",
       "      <td>114130.406250</td>\n",
       "      <td>114223.921875</td>\n",
       "      <td>35783028986</td>\n",
       "    </tr>\n",
       "    <tr>\n",
       "      <th>2025-08-05</th>\n",
       "      <td>114141.445312</td>\n",
       "      <td>115117.437500</td>\n",
       "      <td>112701.109375</td>\n",
       "      <td>115072.187500</td>\n",
       "      <td>61039182286</td>\n",
       "    </tr>\n",
       "    <tr>\n",
       "      <th>2025-08-07</th>\n",
       "      <td>117496.898438</td>\n",
       "      <td>117676.906250</td>\n",
       "      <td>114279.710938</td>\n",
       "      <td>115030.054688</td>\n",
       "      <td>64051649681</td>\n",
       "    </tr>\n",
       "    <tr>\n",
       "      <th>2025-08-09</th>\n",
       "      <td>116776.765625</td>\n",
       "      <td>116975.523438</td>\n",
       "      <td>116379.140625</td>\n",
       "      <td>116688.750000</td>\n",
       "      <td>54840418304</td>\n",
       "    </tr>\n",
       "  </tbody>\n",
       "</table>\n",
       "<p>3978 rows × 5 columns</p>\n",
       "</div>"
      ],
      "text/plain": [
       "Price               Close           High            Low           Open  \\\n",
       "Date                                                                     \n",
       "2014-09-17     457.334015     468.174011     452.421997     465.864014   \n",
       "2014-09-18     424.440002     456.859985     413.104004     456.859985   \n",
       "2014-09-19     394.795990     427.834991     384.532013     424.102997   \n",
       "2014-09-20     408.903992     423.295990     389.882996     394.673004   \n",
       "2014-09-21     398.821014     412.425995     393.181000     408.084991   \n",
       "...                   ...            ...            ...            ...   \n",
       "2025-08-03  114217.671875  114747.421875  111943.804688  112525.804688   \n",
       "2025-08-04  115071.882812  115729.468750  114130.406250  114223.921875   \n",
       "2025-08-05  114141.445312  115117.437500  112701.109375  115072.187500   \n",
       "2025-08-07  117496.898438  117676.906250  114279.710938  115030.054688   \n",
       "2025-08-09  116776.765625  116975.523438  116379.140625  116688.750000   \n",
       "\n",
       "Price            Volume  \n",
       "Date                     \n",
       "2014-09-17     21056800  \n",
       "2014-09-18     34483200  \n",
       "2014-09-19     37919700  \n",
       "2014-09-20     36863600  \n",
       "2014-09-21     26580100  \n",
       "...                 ...  \n",
       "2025-08-03  48099615826  \n",
       "2025-08-04  35783028986  \n",
       "2025-08-05  61039182286  \n",
       "2025-08-07  64051649681  \n",
       "2025-08-09  54840418304  \n",
       "\n",
       "[3978 rows x 5 columns]"
      ]
     },
     "execution_count": 2,
     "metadata": {},
     "output_type": "execute_result"
    }
   ],
   "source": [
    "import yfinance as yf\n",
    "\n",
    "token = 'BTC-USD'\n",
    "\n",
    "data = yf.download(token, interval='1d', period='max')\n",
    "data = data.droplevel('Ticker', axis=1)\n",
    "data.to_csv('BTC-USD.csv')\n",
    "data"
   ]
  },
  {
   "cell_type": "code",
   "execution_count": 4,
   "metadata": {},
   "outputs": [
    {
     "name": "stdout",
     "output_type": "stream",
     "text": [
      "            Date          Close           High            Low           Open  \\\n",
      "3973  2025-08-03  114217.671875  114747.421875  111943.804688  112525.804688   \n",
      "3974  2025-08-04  115071.882812  115729.468750  114130.406250  114223.921875   \n",
      "3975  2025-08-05  114141.445312  115117.437500  112701.109375  115072.187500   \n",
      "3976  2025-08-07  117496.898438  117676.906250  114279.710938  115030.054688   \n",
      "3977  2025-08-09  116776.765625  116975.523438  116379.140625  116688.750000   \n",
      "\n",
      "           Volume          ema20          ema50      rsi10      rsi30  \\\n",
      "3973  48099615826  115942.420815  112925.492746  41.625144  53.243667   \n",
      "3974  35783028986  115859.512434  113009.664905  45.982605  54.347019   \n",
      "3975  61039182286  115695.886994  113054.048451  42.172664  52.939359   \n",
      "3976  64051649681  115867.411893  113228.277862  56.586286  57.086102   \n",
      "3977  54840418304  115954.017011  113367.434245  53.411643  55.990758   \n",
      "\n",
      "         rsi200        macd       signal        hist  Price-Up  \n",
      "3973  54.515007  439.981133  1439.308177 -999.327043         1  \n",
      "3974  54.654035  338.275236  1219.101589 -880.826352         0  \n",
      "3975  54.471770  180.513206  1011.383912 -830.870706         1  \n",
      "3976  55.015501  322.524820   873.612094 -551.087274         0  \n",
      "3977  54.874146  372.665492   773.422773 -400.757282         0  \n"
     ]
    }
   ],
   "source": [
    "import pandas as pd\n",
    "from ta.trend import EMAIndicator, MACD\n",
    "from ta.momentum import RSIIndicator\n",
    "\n",
    "# Carga tus datos en 'data' con columna 'Close'\n",
    "data = pd.read_csv('BTC-USD.csv')\n",
    "\n",
    "# EMAs\n",
    "data['ema20'] = EMAIndicator(data['Close'], window=20).ema_indicator()\n",
    "data['ema50'] = EMAIndicator(data['Close'], window=50).ema_indicator()\n",
    "\n",
    "# RSIs\n",
    "data['rsi10']  = RSIIndicator(data['Close'], window=10).rsi()\n",
    "data['rsi30']  = RSIIndicator(data['Close'], window=30).rsi()\n",
    "data['rsi200'] = RSIIndicator(data['Close'], window=200).rsi()\n",
    "\n",
    "# MACD\n",
    "macd_ind = MACD(data['Close'], window_fast=12, window_slow=26, window_sign=9)\n",
    "data['macd']   = macd_ind.macd()\n",
    "data['signal'] = macd_ind.macd_signal()\n",
    "data['hist']   = macd_ind.macd_diff()\n",
    "\n",
    "# Señal de subida de precio\n",
    "data['Price-Up'] = (data['Close'].shift(-1) > data['Close']).astype(int)\n",
    "\n",
    "# Limpieza y exportación\n",
    "data.dropna(inplace=True)\n",
    "data.to_csv('BTC-I.csv', index=False)\n",
    "data\n",
    "print(data.tail())\n"
   ]
  },
  {
   "cell_type": "markdown",
   "metadata": {},
   "source": [
    "# Stream_Crypto_Data "
   ]
  },
  {
   "cell_type": "code",
   "execution_count": 7,
   "metadata": {},
   "outputs": [
    {
     "ename": "ModuleNotFoundError",
     "evalue": "No module named 'websocket'",
     "output_type": "error",
     "traceback": [
      "\u001b[31m---------------------------------------------------------------------------\u001b[39m",
      "\u001b[31mModuleNotFoundError\u001b[39m                       Traceback (most recent call last)",
      "\u001b[36mCell\u001b[39m\u001b[36m \u001b[39m\u001b[32mIn[7]\u001b[39m\u001b[32m, line 2\u001b[39m\n\u001b[32m      1\u001b[39m \u001b[38;5;28;01mimport\u001b[39;00m\u001b[38;5;250m \u001b[39m\u001b[34;01mjson\u001b[39;00m \n\u001b[32m----> \u001b[39m\u001b[32m2\u001b[39m \u001b[38;5;28;01mimport\u001b[39;00m\u001b[38;5;250m \u001b[39m\u001b[34;01mwebsocket\u001b[39;00m\n\u001b[32m      3\u001b[39m \u001b[38;5;28;01mimport\u001b[39;00m\u001b[38;5;250m \u001b[39m\u001b[34;01mpandas\u001b[39;00m\u001b[38;5;250m \u001b[39m\u001b[38;5;28;01mas\u001b[39;00m\u001b[38;5;250m \u001b[39m\u001b[34;01mpd\u001b[39;00m\n\u001b[32m      4\u001b[39m \u001b[38;5;28;01mimport\u001b[39;00m\u001b[38;5;250m \u001b[39m\u001b[34;01mnumpy\u001b[39;00m\u001b[38;5;250m \u001b[39m\u001b[38;5;28;01mas\u001b[39;00m\u001b[38;5;250m \u001b[39m\u001b[34;01mnp\u001b[39;00m\n",
      "\u001b[31mModuleNotFoundError\u001b[39m: No module named 'websocket'"
     ]
    }
   ],
   "source": [
    "import json \n",
    "import websocket\n",
    "import pandas as pd\n",
    "import numpy as np\n",
    "\n",
    "coin = 'btcusdt@kline_1m'\n",
    "socket = 'wss://stream.binance.com:9443/stream?streams=' + coin\n",
    "print(socket)\n"
   ]
  },
  {
   "cell_type": "code",
   "execution_count": null,
   "metadata": {},
   "outputs": [],
   "source": [
    "def extract_ohlcv(source):\n",
    "    event_time = pd.to_datetime(source['data']['E'], unit='ms')\n",
    "    open = source['data']['k']['o']\n",
    "    high = source['data']['k']['h']\n",
    "    low = source['data']['k']['l']\n",
    "    close = source['data']['k']['c']   \n",
    "    volume = source['data']['k']['v']\n",
    "\n",
    "    data = {'Open': open, 'High': high, 'Low': low, 'Close': close, 'Volume': volume}\n",
    "\n",
    "    df = pd.DataFrame(data, index=[event_time])\n",
    "    df.index.name = 'timestamp'\n",
    "    df = df.astype(float)\n",
    "    df = df.reset_index()\n",
    "    print(df)\n",
    "    return df\n",
    "\n",
    "def on_message(ws, message):\n",
    "    message = json.loads(message)\n",
    "    extract_ohlcv(message)"
   ]
  },
  {
   "cell_type": "code",
   "execution_count": null,
   "metadata": {},
   "outputs": [
    {
     "name": "stdout",
     "output_type": "stream",
     "text": [
      "                timestamp      Open     High       Low     Close    Volume\n",
      "0 2025-02-27 17:53:18.014  84573.53  84593.7  84494.26  84494.26  10.41565\n",
      "                timestamp      Open     High       Low     Close    Volume\n",
      "0 2025-02-27 17:53:20.015  84573.53  84593.7  84494.26  84494.27  10.43499\n",
      "                timestamp      Open     High       Low     Close    Volume\n",
      "0 2025-02-27 17:53:22.029  84573.53  84593.7  84494.26  84494.27  10.61498\n"
     ]
    },
    {
     "data": {
      "text/plain": [
       "True"
      ]
     },
     "execution_count": 6,
     "metadata": {},
     "output_type": "execute_result"
    }
   ],
   "source": [
    "ws = websocket.WebSocketApp(socket, on_message=on_message)\n",
    "ws.run_forever()"
   ]
  }
 ],
 "metadata": {
  "kernelspec": {
   "display_name": "base",
   "language": "python",
   "name": "python3"
  },
  "language_info": {
   "codemirror_mode": {
    "name": "ipython",
    "version": 3
   },
   "file_extension": ".py",
   "mimetype": "text/x-python",
   "name": "python",
   "nbconvert_exporter": "python",
   "pygments_lexer": "ipython3",
   "version": "3.13.2"
  }
 },
 "nbformat": 4,
 "nbformat_minor": 2
}
