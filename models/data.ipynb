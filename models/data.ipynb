{
 "cells": [
  {
   "cell_type": "code",
   "execution_count": 1,
   "metadata": {},
   "outputs": [
    {
     "name": "stderr",
     "output_type": "stream",
     "text": [
      "/var/folders/vp/2hwjkxh92qsdfnjr9y_xpmm00000gn/T/ipykernel_1241/1117255159.py:5: FutureWarning: YF.download() has changed argument auto_adjust default to True\n",
      "  data = yf.download(token, interval='1d', period='max')\n",
      "[*********************100%***********************]  1 of 1 completed\n"
     ]
    },
    {
     "data": {
      "text/html": [
       "<div>\n",
       "<style scoped>\n",
       "    .dataframe tbody tr th:only-of-type {\n",
       "        vertical-align: middle;\n",
       "    }\n",
       "\n",
       "    .dataframe tbody tr th {\n",
       "        vertical-align: top;\n",
       "    }\n",
       "\n",
       "    .dataframe thead th {\n",
       "        text-align: right;\n",
       "    }\n",
       "</style>\n",
       "<table border=\"1\" class=\"dataframe\">\n",
       "  <thead>\n",
       "    <tr style=\"text-align: right;\">\n",
       "      <th>Price</th>\n",
       "      <th>Close</th>\n",
       "      <th>High</th>\n",
       "      <th>Low</th>\n",
       "      <th>Open</th>\n",
       "      <th>Volume</th>\n",
       "    </tr>\n",
       "    <tr>\n",
       "      <th>Date</th>\n",
       "      <th></th>\n",
       "      <th></th>\n",
       "      <th></th>\n",
       "      <th></th>\n",
       "      <th></th>\n",
       "    </tr>\n",
       "  </thead>\n",
       "  <tbody>\n",
       "    <tr>\n",
       "      <th>2014-09-17</th>\n",
       "      <td>457.334015</td>\n",
       "      <td>468.174011</td>\n",
       "      <td>452.421997</td>\n",
       "      <td>465.864014</td>\n",
       "      <td>21056800</td>\n",
       "    </tr>\n",
       "    <tr>\n",
       "      <th>2014-09-18</th>\n",
       "      <td>424.440002</td>\n",
       "      <td>456.859985</td>\n",
       "      <td>413.104004</td>\n",
       "      <td>456.859985</td>\n",
       "      <td>34483200</td>\n",
       "    </tr>\n",
       "    <tr>\n",
       "      <th>2014-09-19</th>\n",
       "      <td>394.795990</td>\n",
       "      <td>427.834991</td>\n",
       "      <td>384.532013</td>\n",
       "      <td>424.102997</td>\n",
       "      <td>37919700</td>\n",
       "    </tr>\n",
       "    <tr>\n",
       "      <th>2014-09-20</th>\n",
       "      <td>408.903992</td>\n",
       "      <td>423.295990</td>\n",
       "      <td>389.882996</td>\n",
       "      <td>394.673004</td>\n",
       "      <td>36863600</td>\n",
       "    </tr>\n",
       "    <tr>\n",
       "      <th>2014-09-21</th>\n",
       "      <td>398.821014</td>\n",
       "      <td>412.425995</td>\n",
       "      <td>393.181000</td>\n",
       "      <td>408.084991</td>\n",
       "      <td>26580100</td>\n",
       "    </tr>\n",
       "    <tr>\n",
       "      <th>...</th>\n",
       "      <td>...</td>\n",
       "      <td>...</td>\n",
       "      <td>...</td>\n",
       "      <td>...</td>\n",
       "      <td>...</td>\n",
       "    </tr>\n",
       "    <tr>\n",
       "      <th>2025-08-15</th>\n",
       "      <td>117398.351562</td>\n",
       "      <td>119332.312500</td>\n",
       "      <td>116864.570312</td>\n",
       "      <td>118365.781250</td>\n",
       "      <td>68665353159</td>\n",
       "    </tr>\n",
       "    <tr>\n",
       "      <th>2025-08-16</th>\n",
       "      <td>117491.351562</td>\n",
       "      <td>117996.062500</td>\n",
       "      <td>117271.953125</td>\n",
       "      <td>117398.421875</td>\n",
       "      <td>48036922378</td>\n",
       "    </tr>\n",
       "    <tr>\n",
       "      <th>2025-08-17</th>\n",
       "      <td>117453.062500</td>\n",
       "      <td>118595.773438</td>\n",
       "      <td>117279.523438</td>\n",
       "      <td>117492.789062</td>\n",
       "      <td>45852169525</td>\n",
       "    </tr>\n",
       "    <tr>\n",
       "      <th>2025-08-18</th>\n",
       "      <td>116252.312500</td>\n",
       "      <td>117614.171875</td>\n",
       "      <td>114723.679688</td>\n",
       "      <td>117453.906250</td>\n",
       "      <td>72787808090</td>\n",
       "    </tr>\n",
       "    <tr>\n",
       "      <th>2025-08-19</th>\n",
       "      <td>113756.601562</td>\n",
       "      <td>116709.281250</td>\n",
       "      <td>113644.398438</td>\n",
       "      <td>116270.000000</td>\n",
       "      <td>67299610624</td>\n",
       "    </tr>\n",
       "  </tbody>\n",
       "</table>\n",
       "<p>3990 rows × 5 columns</p>\n",
       "</div>"
      ],
      "text/plain": [
       "Price               Close           High            Low           Open  \\\n",
       "Date                                                                     \n",
       "2014-09-17     457.334015     468.174011     452.421997     465.864014   \n",
       "2014-09-18     424.440002     456.859985     413.104004     456.859985   \n",
       "2014-09-19     394.795990     427.834991     384.532013     424.102997   \n",
       "2014-09-20     408.903992     423.295990     389.882996     394.673004   \n",
       "2014-09-21     398.821014     412.425995     393.181000     408.084991   \n",
       "...                   ...            ...            ...            ...   \n",
       "2025-08-15  117398.351562  119332.312500  116864.570312  118365.781250   \n",
       "2025-08-16  117491.351562  117996.062500  117271.953125  117398.421875   \n",
       "2025-08-17  117453.062500  118595.773438  117279.523438  117492.789062   \n",
       "2025-08-18  116252.312500  117614.171875  114723.679688  117453.906250   \n",
       "2025-08-19  113756.601562  116709.281250  113644.398438  116270.000000   \n",
       "\n",
       "Price            Volume  \n",
       "Date                     \n",
       "2014-09-17     21056800  \n",
       "2014-09-18     34483200  \n",
       "2014-09-19     37919700  \n",
       "2014-09-20     36863600  \n",
       "2014-09-21     26580100  \n",
       "...                 ...  \n",
       "2025-08-15  68665353159  \n",
       "2025-08-16  48036922378  \n",
       "2025-08-17  45852169525  \n",
       "2025-08-18  72787808090  \n",
       "2025-08-19  67299610624  \n",
       "\n",
       "[3990 rows x 5 columns]"
      ]
     },
     "execution_count": 1,
     "metadata": {},
     "output_type": "execute_result"
    }
   ],
   "source": [
    "import yfinance as yf\n",
    "\n",
    "token = 'BTC-USD'\n",
    "\n",
    "data = yf.download(token, interval='1d', period='max')\n",
    "data = data.droplevel('Ticker', axis=1)\n",
    "data.to_csv('../data/BTC-USD.csv')\n",
    "data.head()"
   ]
  },
  {
   "cell_type": "code",
   "execution_count": 2,
   "metadata": {},
   "outputs": [
    {
     "name": "stdout",
     "output_type": "stream",
     "text": [
      "            Date          Close           High            Low           Open  \\\n",
      "3985  2025-08-15  117398.351562  119332.312500  116864.570312  118365.781250   \n",
      "3986  2025-08-16  117491.351562  117996.062500  117271.953125  117398.421875   \n",
      "3987  2025-08-17  117453.062500  118595.773438  117279.523438  117492.789062   \n",
      "3988  2025-08-18  116252.312500  117614.171875  114723.679688  117453.906250   \n",
      "3989  2025-08-19  113756.601562  116709.281250  113644.398438  116270.000000   \n",
      "\n",
      "           Volume          ema20          ema50      rsi10      rsi30  \\\n",
      "3985  68665353159  117541.958236  114829.431484  49.285988  54.304271   \n",
      "3986  48036922378  117537.138553  114933.820507  49.594012  54.409111   \n",
      "3987  45852169525  117529.131310  115032.614311  49.456598  54.355996   \n",
      "3988  72787808090  117407.529518  115080.445612  45.102138  52.687407   \n",
      "3989  67299610624  117059.822094  115028.530159  37.480990  49.425172   \n",
      "\n",
      "         rsi200         macd      signal        hist  Price-Up  \n",
      "3985  54.729665  1082.698726  934.380294  148.318432         1  \n",
      "3986  54.744595   949.171982  937.338632   11.833351         0  \n",
      "3987  54.737126   830.685839  916.008073  -85.322234         0  \n",
      "3988  54.502749   632.601985  859.326856 -226.724870         0  \n",
      "3989  54.019577   271.110891  741.683663 -470.572771         0  \n"
     ]
    }
   ],
   "source": [
    "import pandas as pd\n",
    "from ta.trend import EMAIndicator, MACD\n",
    "from ta.momentum import RSIIndicator\n",
    "\n",
    "# Carga tus datos en 'data' con columna 'Close'\n",
    "data = pd.read_csv('../data/BTC-USD.csv')\n",
    "\n",
    "# EMAs\n",
    "data['ema20'] = EMAIndicator(data['Close'], window=20).ema_indicator()\n",
    "data['ema50'] = EMAIndicator(data['Close'], window=50).ema_indicator()\n",
    "\n",
    "# RSIs\n",
    "data['rsi10']  = RSIIndicator(data['Close'], window=10).rsi()\n",
    "data['rsi30']  = RSIIndicator(data['Close'], window=30).rsi()\n",
    "data['rsi200'] = RSIIndicator(data['Close'], window=200).rsi()\n",
    "\n",
    "# MACD\n",
    "macd_ind = MACD(data['Close'], window_fast=12, window_slow=26, window_sign=9)\n",
    "data['macd']   = macd_ind.macd()\n",
    "data['signal'] = macd_ind.macd_signal()\n",
    "data['hist']   = macd_ind.macd_diff()\n",
    "\n",
    "# Señal de subida de precio\n",
    "data['Price-Up'] = (data['Close'].shift(-1) > data['Close']).astype(int)\n",
    "\n",
    "# Limpieza y exportación\n",
    "data.dropna(inplace=True)\n",
    "data.to_csv('../data/BTC-I.csv', index=False)\n",
    "data\n",
    "print(data.tail())\n"
   ]
  },
  {
   "cell_type": "markdown",
   "metadata": {},
   "source": [
    "# Stream_Crypto_Data "
   ]
  },
  {
   "cell_type": "code",
   "execution_count": 7,
   "metadata": {},
   "outputs": [
    {
     "ename": "ModuleNotFoundError",
     "evalue": "No module named 'websocket'",
     "output_type": "error",
     "traceback": [
      "\u001b[31m---------------------------------------------------------------------------\u001b[39m",
      "\u001b[31mModuleNotFoundError\u001b[39m                       Traceback (most recent call last)",
      "\u001b[36mCell\u001b[39m\u001b[36m \u001b[39m\u001b[32mIn[7]\u001b[39m\u001b[32m, line 2\u001b[39m\n\u001b[32m      1\u001b[39m \u001b[38;5;28;01mimport\u001b[39;00m\u001b[38;5;250m \u001b[39m\u001b[34;01mjson\u001b[39;00m \n\u001b[32m----> \u001b[39m\u001b[32m2\u001b[39m \u001b[38;5;28;01mimport\u001b[39;00m\u001b[38;5;250m \u001b[39m\u001b[34;01mwebsocket\u001b[39;00m\n\u001b[32m      3\u001b[39m \u001b[38;5;28;01mimport\u001b[39;00m\u001b[38;5;250m \u001b[39m\u001b[34;01mpandas\u001b[39;00m\u001b[38;5;250m \u001b[39m\u001b[38;5;28;01mas\u001b[39;00m\u001b[38;5;250m \u001b[39m\u001b[34;01mpd\u001b[39;00m\n\u001b[32m      4\u001b[39m \u001b[38;5;28;01mimport\u001b[39;00m\u001b[38;5;250m \u001b[39m\u001b[34;01mnumpy\u001b[39;00m\u001b[38;5;250m \u001b[39m\u001b[38;5;28;01mas\u001b[39;00m\u001b[38;5;250m \u001b[39m\u001b[34;01mnp\u001b[39;00m\n",
      "\u001b[31mModuleNotFoundError\u001b[39m: No module named 'websocket'"
     ]
    }
   ],
   "source": [
    "import json \n",
    "import websocket\n",
    "import pandas as pd\n",
    "import numpy as np\n",
    "\n",
    "coin = 'btcusdt@kline_1m'\n",
    "socket = 'wss://stream.binance.com:9443/stream?streams=' + coin\n",
    "print(socket)\n"
   ]
  },
  {
   "cell_type": "code",
   "execution_count": null,
   "metadata": {},
   "outputs": [],
   "source": [
    "def extract_ohlcv(source):\n",
    "    event_time = pd.to_datetime(source['data']['E'], unit='ms')\n",
    "    open = source['data']['k']['o']\n",
    "    high = source['data']['k']['h']\n",
    "    low = source['data']['k']['l']\n",
    "    close = source['data']['k']['c']   \n",
    "    volume = source['data']['k']['v']\n",
    "\n",
    "    data = {'Open': open, 'High': high, 'Low': low, 'Close': close, 'Volume': volume}\n",
    "\n",
    "    df = pd.DataFrame(data, index=[event_time])\n",
    "    df.index.name = 'timestamp'\n",
    "    df = df.astype(float)\n",
    "    df = df.reset_index()\n",
    "    print(df)\n",
    "    return df\n",
    "\n",
    "def on_message(ws, message):\n",
    "    message = json.loads(message)\n",
    "    extract_ohlcv(message)"
   ]
  },
  {
   "cell_type": "code",
   "execution_count": null,
   "metadata": {},
   "outputs": [
    {
     "name": "stdout",
     "output_type": "stream",
     "text": [
      "                timestamp      Open     High       Low     Close    Volume\n",
      "0 2025-02-27 17:53:18.014  84573.53  84593.7  84494.26  84494.26  10.41565\n",
      "                timestamp      Open     High       Low     Close    Volume\n",
      "0 2025-02-27 17:53:20.015  84573.53  84593.7  84494.26  84494.27  10.43499\n",
      "                timestamp      Open     High       Low     Close    Volume\n",
      "0 2025-02-27 17:53:22.029  84573.53  84593.7  84494.26  84494.27  10.61498\n"
     ]
    },
    {
     "data": {
      "text/plain": [
       "True"
      ]
     },
     "execution_count": 6,
     "metadata": {},
     "output_type": "execute_result"
    }
   ],
   "source": [
    "ws = websocket.WebSocketApp(socket, on_message=on_message)\n",
    "ws.run_forever()"
   ]
  }
 ],
 "metadata": {
  "kernelspec": {
   "display_name": "env",
   "language": "python",
   "name": "python3"
  },
  "language_info": {
   "codemirror_mode": {
    "name": "ipython",
    "version": 3
   },
   "file_extension": ".py",
   "mimetype": "text/x-python",
   "name": "python",
   "nbconvert_exporter": "python",
   "pygments_lexer": "ipython3",
   "version": "3.13.5"
  }
 },
 "nbformat": 4,
 "nbformat_minor": 2
}
