{
 "cells": [
  {
   "cell_type": "markdown",
   "metadata": {},
   "source": [
    "### Noticias "
   ]
  },
  {
   "cell_type": "code",
   "execution_count": 70,
   "metadata": {},
   "outputs": [
    {
     "name": "stdout",
     "output_type": "stream",
     "text": [
      "Error al obtener las noticias: News list successfully returned\n"
     ]
    }
   ],
   "source": [
    "import requests\n",
    "from textblob import TextBlob\n",
    "\n",
    "\n",
    "# Paso 1: Obtener noticias de Bitcoin de la API de CryptoCompare\n",
    "url = \"https://min-api.cryptocompare.com/data/v2/news/\"\n",
    "parameters = {\n",
    "    'categories': 'Bitcoin',\n",
    "    'lang': 'EN'\n",
    "}\n",
    "response = requests.get(url, params=parameters)\n",
    "data = response.json()\n",
    "\n",
    "# Verifica si la respuesta es exitosa\n",
    "if data['Message'] == 'Success':\n",
    "    articles = data['Data']\n",
    "    \n",
    "    # Paso 2: Analizar el sentimiento de cada artículo\n",
    "    for article in articles:\n",
    "        text = article['title'] + \". \" + article['body']\n",
    "        analysis = TextBlob(text)\n",
    "        sentiment = analysis.sentiment.polarity\n",
    "        \n",
    "        print(f\"Título: {article['title']}\")\n",
    "        print(f\"Sentimiento: {sentiment}\")\n",
    "        print(\"-\" * 50)\n",
    "else:\n",
    "    print(\"Error al obtener las noticias:\", data['Message'])"
   ]
  }
 ],
 "metadata": {
  "kernelspec": {
   "display_name": "base",
   "language": "python",
   "name": "python3"
  },
  "language_info": {
   "codemirror_mode": {
    "name": "ipython",
    "version": 3
   },
   "file_extension": ".py",
   "mimetype": "text/x-python",
   "name": "python",
   "nbconvert_exporter": "python",
   "pygments_lexer": "ipython3",
   "version": "3.12.2"
  }
 },
 "nbformat": 4,
 "nbformat_minor": 2
}
