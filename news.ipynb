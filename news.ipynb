{
 "cells": [
  {
   "cell_type": "markdown",
   "metadata": {},
   "source": [
    "### Noticias "
   ]
  },
  {
   "cell_type": "code",
   "execution_count": 1,
   "metadata": {},
   "outputs": [],
   "source": [
    "import requests\n",
    "import pandas as pd\n",
    "import datetime as dt\n",
    "from transformers import pipeline\n"
   ]
  },
  {
   "cell_type": "code",
   "execution_count": 2,
   "metadata": {},
   "outputs": [],
   "source": [
    "# Configuración\n",
    "NEWS_API_KEY = 'c6a6a47f2cfb4a3c8259b57247d1149c'  # Reemplaza con tu clave API\n",
    "QUERY = 'Bitcoin'\n",
    "FROM_DATE = (dt.datetime.now() - dt.timedelta(days=30)).strftime('%Y-%m-%d')  # Últimos 30 días\n",
    "TO_DATE = dt.datetime.now().strftime('%Y-%m-%d')\n"
   ]
  },
  {
   "cell_type": "code",
   "execution_count": 3,
   "metadata": {},
   "outputs": [],
   "source": [
    "def obtener_noticias(query, from_date, to_date, api_key, page=1):\n",
    "    url = ('https://newsapi.org/v2/everything?'\n",
    "           f'q={query}&'\n",
    "           f'from={from_date}&'\n",
    "           f'to={to_date}&'\n",
    "           'language=en&'\n",
    "           'sortBy=publishedAt&'\n",
    "           'pageSize=100&'\n",
    "           f'page={page}&'\n",
    "           f'apiKey={api_key}')\n",
    "    response = requests.get(url)\n",
    "    data = response.json()\n",
    "    return data\n"
   ]
  },
  {
   "cell_type": "code",
   "execution_count": 5,
   "metadata": {},
   "outputs": [
    {
     "data": {
      "text/html": [
       "<div>\n",
       "<style scoped>\n",
       "    .dataframe tbody tr th:only-of-type {\n",
       "        vertical-align: middle;\n",
       "    }\n",
       "\n",
       "    .dataframe tbody tr th {\n",
       "        vertical-align: top;\n",
       "    }\n",
       "\n",
       "    .dataframe thead th {\n",
       "        text-align: right;\n",
       "    }\n",
       "</style>\n",
       "<table border=\"1\" class=\"dataframe\">\n",
       "  <thead>\n",
       "    <tr style=\"text-align: right;\">\n",
       "      <th></th>\n",
       "      <th>publishedAt</th>\n",
       "      <th>content</th>\n",
       "    </tr>\n",
       "  </thead>\n",
       "  <tbody>\n",
       "    <tr>\n",
       "      <th>0</th>\n",
       "      <td>2024-12-01</td>\n",
       "      <td>WE ARE THE LAND – UK Farmers Protesting Agains...</td>\n",
       "    </tr>\n",
       "    <tr>\n",
       "      <th>1</th>\n",
       "      <td>2024-12-01</td>\n",
       "      <td>55K Bitcoin worth $5.34B pulled from exchanges...</td>\n",
       "    </tr>\n",
       "    <tr>\n",
       "      <th>2</th>\n",
       "      <td>2024-12-01</td>\n",
       "      <td>Dogecoin To $3? Expert Says The Countdown Has ...</td>\n",
       "    </tr>\n",
       "    <tr>\n",
       "      <th>3</th>\n",
       "      <td>2024-12-01</td>\n",
       "      <td>80/20 Living. An interesting dynamic way to li...</td>\n",
       "    </tr>\n",
       "    <tr>\n",
       "      <th>4</th>\n",
       "      <td>2024-12-01</td>\n",
       "      <td>FinTech CEOs Expose How Feds Colluded In ‘Deba...</td>\n",
       "    </tr>\n",
       "    <tr>\n",
       "      <th>...</th>\n",
       "      <td>...</td>\n",
       "      <td>...</td>\n",
       "    </tr>\n",
       "    <tr>\n",
       "      <th>95</th>\n",
       "      <td>2024-11-29</td>\n",
       "      <td>The Philosophy of Property. I’ve never owned p...</td>\n",
       "    </tr>\n",
       "    <tr>\n",
       "      <th>96</th>\n",
       "      <td>2024-11-29</td>\n",
       "      <td>Ripple Secures Major Win Amid Gensler’s Resign...</td>\n",
       "    </tr>\n",
       "    <tr>\n",
       "      <th>97</th>\n",
       "      <td>2024-11-29</td>\n",
       "      <td>Thanksgiving, Economics, and Sound Money. By M...</td>\n",
       "    </tr>\n",
       "    <tr>\n",
       "      <th>98</th>\n",
       "      <td>2024-11-29</td>\n",
       "      <td>8 Bit Essay. To transform this essay into an “...</td>\n",
       "    </tr>\n",
       "    <tr>\n",
       "      <th>99</th>\n",
       "      <td>2024-11-29</td>\n",
       "      <td>The Unexpected Parallels Between Street Photog...</td>\n",
       "    </tr>\n",
       "  </tbody>\n",
       "</table>\n",
       "<p>100 rows × 2 columns</p>\n",
       "</div>"
      ],
      "text/plain": [
       "   publishedAt                                            content\n",
       "0   2024-12-01  WE ARE THE LAND – UK Farmers Protesting Agains...\n",
       "1   2024-12-01  55K Bitcoin worth $5.34B pulled from exchanges...\n",
       "2   2024-12-01  Dogecoin To $3? Expert Says The Countdown Has ...\n",
       "3   2024-12-01  80/20 Living. An interesting dynamic way to li...\n",
       "4   2024-12-01  FinTech CEOs Expose How Feds Colluded In ‘Deba...\n",
       "..         ...                                                ...\n",
       "95  2024-11-29  The Philosophy of Property. I’ve never owned p...\n",
       "96  2024-11-29  Ripple Secures Major Win Amid Gensler’s Resign...\n",
       "97  2024-11-29  Thanksgiving, Economics, and Sound Money. By M...\n",
       "98  2024-11-29  8 Bit Essay. To transform this essay into an “...\n",
       "99  2024-11-29  The Unexpected Parallels Between Street Photog...\n",
       "\n",
       "[100 rows x 2 columns]"
      ]
     },
     "execution_count": 5,
     "metadata": {},
     "output_type": "execute_result"
    }
   ],
   "source": [
    "# Obtener todas las noticias (hasta el límite de la API)\n",
    "todas_las_noticias = []\n",
    "page = 1\n",
    "while True:\n",
    "    data = obtener_noticias(QUERY, FROM_DATE, TO_DATE, NEWS_API_KEY, page=page)\n",
    "    articles = data.get('articles')\n",
    "    if not articles:\n",
    "        break\n",
    "    todas_las_noticias.extend(articles)\n",
    "    page += 1\n",
    "    if page > 5:  # Ajusta este límite según las restricciones de la API\n",
    "        break\n",
    "\n",
    "# Crear DataFrame con las noticias\n",
    "df_noticias = pd.DataFrame(todas_las_noticias)\n",
    "df_noticias = df_noticias[['publishedAt', 'title', 'description']]\n",
    "df_noticias['publishedAt'] = pd.to_datetime(df_noticias['publishedAt']).dt.date\n",
    "df_noticias['content'] = df_noticias['title'].fillna('') + '. ' + df_noticias['description'].fillna('')\n",
    "df_noticias = df_noticias[['publishedAt', 'content']]\n",
    "df_noticias\n"
   ]
  },
  {
   "cell_type": "code",
   "execution_count": 6,
   "metadata": {},
   "outputs": [
    {
     "data": {
      "application/vnd.jupyter.widget-view+json": {
       "model_id": "ac8801084b5e4c1db07d7cf4fcb17b31",
       "version_major": 2,
       "version_minor": 0
      },
      "text/plain": [
       "config.json:   0%|          | 0.00/953 [00:00<?, ?B/s]"
      ]
     },
     "metadata": {},
     "output_type": "display_data"
    },
    {
     "name": "stdout",
     "output_type": "stream",
     "text": [
      "WARNING:tensorflow:From c:\\Users\\ivoto\\miniconda3\\Lib\\site-packages\\tf_keras\\src\\losses.py:2976: The name tf.losses.sparse_softmax_cross_entropy is deprecated. Please use tf.compat.v1.losses.sparse_softmax_cross_entropy instead.\n",
      "\n"
     ]
    },
    {
     "data": {
      "application/vnd.jupyter.widget-view+json": {
       "model_id": "6c0056a0f9334500a4fe6da51a58cdb2",
       "version_major": 2,
       "version_minor": 0
      },
      "text/plain": [
       "pytorch_model.bin:   0%|          | 0.00/669M [00:00<?, ?B/s]"
      ]
     },
     "metadata": {},
     "output_type": "display_data"
    },
    {
     "data": {
      "application/vnd.jupyter.widget-view+json": {
       "model_id": "5e119ef41e63459791cbeef47b841981",
       "version_major": 2,
       "version_minor": 0
      },
      "text/plain": [
       "tokenizer_config.json:   0%|          | 0.00/39.0 [00:00<?, ?B/s]"
      ]
     },
     "metadata": {},
     "output_type": "display_data"
    },
    {
     "data": {
      "application/vnd.jupyter.widget-view+json": {
       "model_id": "8bbd3b34b82c47679bae9971c3a5498e",
       "version_major": 2,
       "version_minor": 0
      },
      "text/plain": [
       "vocab.txt:   0%|          | 0.00/872k [00:00<?, ?B/s]"
      ]
     },
     "metadata": {},
     "output_type": "display_data"
    },
    {
     "data": {
      "application/vnd.jupyter.widget-view+json": {
       "model_id": "3fdccc16b9f2404caa647bcf39aa49f4",
       "version_major": 2,
       "version_minor": 0
      },
      "text/plain": [
       "special_tokens_map.json:   0%|          | 0.00/112 [00:00<?, ?B/s]"
      ]
     },
     "metadata": {},
     "output_type": "display_data"
    },
    {
     "name": "stderr",
     "output_type": "stream",
     "text": [
      "Hardware accelerator e.g. GPU is available in the environment, but no `device` argument is passed to the `Pipeline` object. Model will be on CPU.\n"
     ]
    }
   ],
   "source": [
    "# Cargar el modelo de análisis de sentimiento\n",
    "sentimiento = pipeline('sentiment-analysis', model='nlptown/bert-base-multilingual-uncased-sentiment')\n",
    "\n",
    "# Función para obtener la puntuación de sentimiento\n",
    "def obtener_puntuacion(texto):\n",
    "    try:\n",
    "        resultado = sentimiento(texto[:512])[0]  # Limitar a 512 caracteres\n",
    "        puntuacion = int(resultado['label'].split()[0])  # Extraer la puntuación (1-5 estrellas)\n",
    "        return puntuacion\n",
    "    except:\n",
    "        return 3  # Neutral en caso de error\n",
    "\n",
    "# Aplicar el análisis de sentimiento a cada noticia\n",
    "df_noticias['sentimiento_puntuacion'] = df_noticias['content'].apply(obtener_puntuacion)\n"
   ]
  },
  {
   "cell_type": "code",
   "execution_count": 7,
   "metadata": {},
   "outputs": [],
   "source": [
    "# Mapear las puntuaciones numéricas a categorías\n",
    "def mapear_sentimiento(puntuacion):\n",
    "    if puntuacion >= 4:\n",
    "        return 'Positivo'\n",
    "    elif puntuacion == 3:\n",
    "        return 'Neutral'\n",
    "    else:\n",
    "        return 'Negativo'\n",
    "\n",
    "df_noticias['sentimiento'] = df_noticias['sentimiento_puntuacion'].apply(mapear_sentimiento)\n"
   ]
  },
  {
   "cell_type": "code",
   "execution_count": 8,
   "metadata": {},
   "outputs": [],
   "source": [
    "# Agrupar noticias por fecha\n",
    "df_agrupado = df_noticias.groupby('publishedAt').agg({\n",
    "    'content': ' '.join,  # Combinar todas las noticias del día\n",
    "    'sentimiento_puntuacion': 'mean'  # Obtener la puntuación promedio\n",
    "}).reset_index()\n",
    "\n",
    "# Mapear la puntuación promedio a categorías de sentimiento\n",
    "df_agrupado['sentimiento'] = df_agrupado['sentimiento_puntuacion'].apply(mapear_sentimiento)\n"
   ]
  },
  {
   "cell_type": "code",
   "execution_count": 9,
   "metadata": {},
   "outputs": [
    {
     "name": "stdout",
     "output_type": "stream",
     "text": [
      "        fecha                                           noticias sentimiento\n",
      "0  2024-11-29  Earn up to US$52 in Crypto for Completing Lear...    Negativo\n",
      "1  2024-11-30  Ethereum’s Surging Price Is Helping Spot Ether...    Negativo\n",
      "2  2024-12-01  WE ARE THE LAND – UK Farmers Protesting Agains...    Negativo\n"
     ]
    }
   ],
   "source": [
    "# Renombrar columnas y seleccionar las necesarias\n",
    "df_final = df_agrupado.rename(columns={'publishedAt': 'fecha', 'content': 'noticias'})\n",
    "df_final = df_final[['fecha', 'noticias', 'sentimiento']]\n",
    "\n",
    "# Mostrar el DataFrame final\n",
    "print(df_final)\n"
   ]
  }
 ],
 "metadata": {
  "kernelspec": {
   "display_name": "base",
   "language": "python",
   "name": "python3"
  },
  "language_info": {
   "codemirror_mode": {
    "name": "ipython",
    "version": 3
   },
   "file_extension": ".py",
   "mimetype": "text/x-python",
   "name": "python",
   "nbconvert_exporter": "python",
   "pygments_lexer": "ipython3",
   "version": "3.12.2"
  }
 },
 "nbformat": 4,
 "nbformat_minor": 2
}
