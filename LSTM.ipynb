{
 "cells": [
  {
   "cell_type": "markdown",
   "metadata": {},
   "source": [
    "### LSTM"
   ]
  },
  {
   "cell_type": "code",
   "execution_count": 11,
   "metadata": {},
   "outputs": [
    {
     "data": {
      "text/html": [
       "<div>\n",
       "<style scoped>\n",
       "    .dataframe tbody tr th:only-of-type {\n",
       "        vertical-align: middle;\n",
       "    }\n",
       "\n",
       "    .dataframe tbody tr th {\n",
       "        vertical-align: top;\n",
       "    }\n",
       "\n",
       "    .dataframe thead th {\n",
       "        text-align: right;\n",
       "    }\n",
       "</style>\n",
       "<table border=\"1\" class=\"dataframe\">\n",
       "  <thead>\n",
       "    <tr style=\"text-align: right;\">\n",
       "      <th></th>\n",
       "      <th>Close</th>\n",
       "      <th>sma</th>\n",
       "      <th>ema20</th>\n",
       "      <th>ema50</th>\n",
       "      <th>ema200</th>\n",
       "      <th>rsi</th>\n",
       "      <th>macd</th>\n",
       "      <th>macd_signal</th>\n",
       "      <th>Close_future</th>\n",
       "      <th>Price_Up</th>\n",
       "    </tr>\n",
       "    <tr>\n",
       "      <th>Date</th>\n",
       "      <th></th>\n",
       "      <th></th>\n",
       "      <th></th>\n",
       "      <th></th>\n",
       "      <th></th>\n",
       "      <th></th>\n",
       "      <th></th>\n",
       "      <th></th>\n",
       "      <th></th>\n",
       "      <th></th>\n",
       "    </tr>\n",
       "  </thead>\n",
       "  <tbody>\n",
       "    <tr>\n",
       "      <th>2015-04-04</th>\n",
       "      <td>253.697006</td>\n",
       "      <td>266.058734</td>\n",
       "      <td>255.661524</td>\n",
       "      <td>258.734938</td>\n",
       "      <td>307.338692</td>\n",
       "      <td>47.508324</td>\n",
       "      <td>-4.193133</td>\n",
       "      <td>-3.906538</td>\n",
       "      <td>260.597992</td>\n",
       "      <td>1</td>\n",
       "    </tr>\n",
       "    <tr>\n",
       "      <th>2015-04-05</th>\n",
       "      <td>260.597992</td>\n",
       "      <td>265.654567</td>\n",
       "      <td>256.131663</td>\n",
       "      <td>258.807999</td>\n",
       "      <td>306.873610</td>\n",
       "      <td>52.432292</td>\n",
       "      <td>-3.252122</td>\n",
       "      <td>-3.775655</td>\n",
       "      <td>255.492004</td>\n",
       "      <td>0</td>\n",
       "    </tr>\n",
       "    <tr>\n",
       "      <th>2015-04-06</th>\n",
       "      <td>255.492004</td>\n",
       "      <td>264.962268</td>\n",
       "      <td>256.070744</td>\n",
       "      <td>258.677960</td>\n",
       "      <td>306.362350</td>\n",
       "      <td>48.785829</td>\n",
       "      <td>-2.885117</td>\n",
       "      <td>-3.597547</td>\n",
       "      <td>253.179993</td>\n",
       "      <td>0</td>\n",
       "    </tr>\n",
       "    <tr>\n",
       "      <th>2015-04-07</th>\n",
       "      <td>253.179993</td>\n",
       "      <td>264.256468</td>\n",
       "      <td>255.795434</td>\n",
       "      <td>258.462354</td>\n",
       "      <td>305.833173</td>\n",
       "      <td>47.185618</td>\n",
       "      <td>-2.749132</td>\n",
       "      <td>-3.427864</td>\n",
       "      <td>245.022003</td>\n",
       "      <td>0</td>\n",
       "    </tr>\n",
       "    <tr>\n",
       "      <th>2015-04-08</th>\n",
       "      <td>245.022003</td>\n",
       "      <td>262.770301</td>\n",
       "      <td>254.769393</td>\n",
       "      <td>257.935281</td>\n",
       "      <td>305.228086</td>\n",
       "      <td>41.956153</td>\n",
       "      <td>-3.262042</td>\n",
       "      <td>-3.394700</td>\n",
       "      <td>243.675995</td>\n",
       "      <td>0</td>\n",
       "    </tr>\n",
       "    <tr>\n",
       "      <th>...</th>\n",
       "      <td>...</td>\n",
       "      <td>...</td>\n",
       "      <td>...</td>\n",
       "      <td>...</td>\n",
       "      <td>...</td>\n",
       "      <td>...</td>\n",
       "      <td>...</td>\n",
       "      <td>...</td>\n",
       "      <td>...</td>\n",
       "      <td>...</td>\n",
       "    </tr>\n",
       "    <tr>\n",
       "      <th>2024-12-12</th>\n",
       "      <td>100043.000000</td>\n",
       "      <td>95711.704687</td>\n",
       "      <td>96622.993102</td>\n",
       "      <td>88474.185367</td>\n",
       "      <td>71606.585559</td>\n",
       "      <td>60.775607</td>\n",
       "      <td>3382.945703</td>\n",
       "      <td>3915.653792</td>\n",
       "      <td>101459.257812</td>\n",
       "      <td>1</td>\n",
       "    </tr>\n",
       "    <tr>\n",
       "      <th>2024-12-13</th>\n",
       "      <td>101459.257812</td>\n",
       "      <td>96074.207812</td>\n",
       "      <td>97083.589741</td>\n",
       "      <td>88983.403894</td>\n",
       "      <td>71903.627074</td>\n",
       "      <td>62.898526</td>\n",
       "      <td>3378.370898</td>\n",
       "      <td>3808.197213</td>\n",
       "      <td>101372.968750</td>\n",
       "      <td>0</td>\n",
       "    </tr>\n",
       "    <tr>\n",
       "      <th>2024-12-14</th>\n",
       "      <td>101372.968750</td>\n",
       "      <td>96544.959115</td>\n",
       "      <td>97492.102028</td>\n",
       "      <td>89469.269183</td>\n",
       "      <td>72196.854355</td>\n",
       "      <td>62.675951</td>\n",
       "      <td>3329.403238</td>\n",
       "      <td>3712.438418</td>\n",
       "      <td>104298.695312</td>\n",
       "      <td>1</td>\n",
       "    </tr>\n",
       "    <tr>\n",
       "      <th>2024-12-15</th>\n",
       "      <td>104298.695312</td>\n",
       "      <td>96986.048698</td>\n",
       "      <td>98140.349007</td>\n",
       "      <td>90050.815306</td>\n",
       "      <td>72516.275658</td>\n",
       "      <td>66.946781</td>\n",
       "      <td>3486.487637</td>\n",
       "      <td>3667.248262</td>\n",
       "      <td>106029.718750</td>\n",
       "      <td>1</td>\n",
       "    </tr>\n",
       "    <tr>\n",
       "      <th>2024-12-16</th>\n",
       "      <td>106029.718750</td>\n",
       "      <td>97501.756771</td>\n",
       "      <td>98891.717554</td>\n",
       "      <td>90677.438970</td>\n",
       "      <td>72849.742753</td>\n",
       "      <td>69.192878</td>\n",
       "      <td>3707.914747</td>\n",
       "      <td>3675.381559</td>\n",
       "      <td>107183.734375</td>\n",
       "      <td>1</td>\n",
       "    </tr>\n",
       "  </tbody>\n",
       "</table>\n",
       "<p>3545 rows × 10 columns</p>\n",
       "</div>"
      ],
      "text/plain": [
       "                    Close           sma         ema20         ema50  \\\n",
       "Date                                                                  \n",
       "2015-04-04     253.697006    266.058734    255.661524    258.734938   \n",
       "2015-04-05     260.597992    265.654567    256.131663    258.807999   \n",
       "2015-04-06     255.492004    264.962268    256.070744    258.677960   \n",
       "2015-04-07     253.179993    264.256468    255.795434    258.462354   \n",
       "2015-04-08     245.022003    262.770301    254.769393    257.935281   \n",
       "...                   ...           ...           ...           ...   \n",
       "2024-12-12  100043.000000  95711.704687  96622.993102  88474.185367   \n",
       "2024-12-13  101459.257812  96074.207812  97083.589741  88983.403894   \n",
       "2024-12-14  101372.968750  96544.959115  97492.102028  89469.269183   \n",
       "2024-12-15  104298.695312  96986.048698  98140.349007  90050.815306   \n",
       "2024-12-16  106029.718750  97501.756771  98891.717554  90677.438970   \n",
       "\n",
       "                  ema200        rsi         macd  macd_signal   Close_future  \\\n",
       "Date                                                                           \n",
       "2015-04-04    307.338692  47.508324    -4.193133    -3.906538     260.597992   \n",
       "2015-04-05    306.873610  52.432292    -3.252122    -3.775655     255.492004   \n",
       "2015-04-06    306.362350  48.785829    -2.885117    -3.597547     253.179993   \n",
       "2015-04-07    305.833173  47.185618    -2.749132    -3.427864     245.022003   \n",
       "2015-04-08    305.228086  41.956153    -3.262042    -3.394700     243.675995   \n",
       "...                  ...        ...          ...          ...            ...   \n",
       "2024-12-12  71606.585559  60.775607  3382.945703  3915.653792  101459.257812   \n",
       "2024-12-13  71903.627074  62.898526  3378.370898  3808.197213  101372.968750   \n",
       "2024-12-14  72196.854355  62.675951  3329.403238  3712.438418  104298.695312   \n",
       "2024-12-15  72516.275658  66.946781  3486.487637  3667.248262  106029.718750   \n",
       "2024-12-16  72849.742753  69.192878  3707.914747  3675.381559  107183.734375   \n",
       "\n",
       "            Price_Up  \n",
       "Date                  \n",
       "2015-04-04         1  \n",
       "2015-04-05         0  \n",
       "2015-04-06         0  \n",
       "2015-04-07         0  \n",
       "2015-04-08         0  \n",
       "...              ...  \n",
       "2024-12-12         1  \n",
       "2024-12-13         0  \n",
       "2024-12-14         1  \n",
       "2024-12-15         1  \n",
       "2024-12-16         1  \n",
       "\n",
       "[3545 rows x 10 columns]"
      ]
     },
     "execution_count": 11,
     "metadata": {},
     "output_type": "execute_result"
    }
   ],
   "source": [
    "import pandas as pd\n",
    "import numpy as np\n",
    "data = pd.read_csv('BTC-Indicators.csv', parse_dates=['Date'], index_col=['Date'])\n",
    "data"
   ]
  },
  {
   "cell_type": "code",
   "execution_count": 12,
   "metadata": {},
   "outputs": [
    {
     "data": {
      "text/plain": [
       "((3545, 1),\n",
       " array([[1],\n",
       "        [0],\n",
       "        [0],\n",
       "        ...,\n",
       "        [1],\n",
       "        [1],\n",
       "        [1]]))"
      ]
     },
     "execution_count": 12,
     "metadata": {},
     "output_type": "execute_result"
    }
   ],
   "source": [
    "features = ['Close', 'sma', 'ema20', 'ema50', 'ema200', 'rsi', 'macd', 'macd_signal']\n",
    "target = ['Price_Up']\n",
    "# Separar X e y\n",
    "X = data[features]\n",
    "y = data[target].to_numpy()\n",
    "y.shape, y"
   ]
  },
  {
   "cell_type": "code",
   "execution_count": 13,
   "metadata": {},
   "outputs": [
    {
     "data": {
      "text/plain": [
       "((3545, 8),\n",
       " array([[-0.99918348, -0.99926728, -0.9994773 , ..., -0.10909682,\n",
       "         -0.16561299, -0.18373406],\n",
       "        [-0.99905305, -0.99927559, -0.99946777, ...,  0.0076098 ,\n",
       "         -0.16545748, -0.18370997],\n",
       "        [-0.99914955, -0.99928982, -0.99946901, ..., -0.07881772,\n",
       "         -0.16539683, -0.18367719],\n",
       "        ...,\n",
       "        [ 0.91198669,  0.98032724,  0.97162803, ...,  0.2504024 ,\n",
       "          0.38528123,  0.50024848],\n",
       "        [ 0.96728338,  0.9893965 ,  0.98476881, ...,  0.3516285 ,\n",
       "          0.41124025,  0.49193136],\n",
       "        [ 1.        ,  1.        ,  1.        , ...,  0.40486492,\n",
       "          0.44783224,  0.49342827]]))"
      ]
     },
     "execution_count": 13,
     "metadata": {},
     "output_type": "execute_result"
    }
   ],
   "source": [
    "from sklearn.preprocessing import MinMaxScaler\n",
    "scaler = MinMaxScaler(feature_range=(-1, 1))\n",
    "X_scaled = scaler.fit_transform(X) # Ya lo convierte en un array de numpy \n",
    "X_scaled.shape, X_scaled"
   ]
  },
  {
   "cell_type": "code",
   "execution_count": 52,
   "metadata": {},
   "outputs": [
    {
     "data": {
      "text/plain": [
       "((3515, 30, 8), (3515, 1))"
      ]
     },
     "execution_count": 52,
     "metadata": {},
     "output_type": "execute_result"
    }
   ],
   "source": [
    "sequence_length = 30 # Ventana temporal de 30 dias \n",
    "X_sequences = []\n",
    "y_sequences = []\n",
    "for i in range(sequence_length, len(X_scaled)): # X_scaled tiene dimension de 1000, X_sequences tendra 1000 - 30(sequence_leght)\n",
    "    X_sequences.append(X_scaled[i - sequence_length: i])\n",
    "    y_sequences.append(y[i])\n",
    "X_sequences = np.array(X_sequences)\n",
    "y_sequences = np.array(y_sequences)\n",
    "X_sequences.shape, y_sequences.shape\n"
   ]
  },
  {
   "cell_type": "code",
   "execution_count": 53,
   "metadata": {},
   "outputs": [],
   "source": [
    "n = len(X_sequences)\n",
    "n_train = int(n * 0.8)  # 80%\n",
    "X_train = X_sequences[:n_train]\n",
    "y_train = y_sequences[:n_train]\n",
    "X_test = X_sequences[n_train:]\n",
    "y_test = y_sequences[n_train:]"
   ]
  },
  {
   "cell_type": "markdown",
   "metadata": {},
   "source": [
    "### Implementacion con Pytorch"
   ]
  },
  {
   "cell_type": "code",
   "execution_count": 54,
   "metadata": {},
   "outputs": [
    {
     "data": {
      "text/plain": [
       "(torch.Size([2812, 30, 8]),\n",
       " torch.Size([703, 30, 8]),\n",
       " torch.Size([2812, 1]),\n",
       " torch.Size([703, 1]))"
      ]
     },
     "execution_count": 54,
     "metadata": {},
     "output_type": "execute_result"
    }
   ],
   "source": [
    "# Convertimos los datos de Numpy a Tensores de Pytorch \n",
    "import torch\n",
    "X_train_tensor = torch.tensor(X_train, dtype=torch.float32)\n",
    "X_test_tensor = torch.tensor(X_test, dtype=torch.float32)\n",
    "y_train_tensor = torch.tensor(y_train, dtype=torch.float32)\n",
    "y_test_tensor = torch.tensor(y_test, dtype=torch.float32)\n",
    "\n",
    "X_train_tensor.shape, X_test_tensor.shape, y_train_tensor.shape, y_test_tensor.shape "
   ]
  },
  {
   "cell_type": "code",
   "execution_count": 55,
   "metadata": {},
   "outputs": [
    {
     "name": "stdout",
     "output_type": "stream",
     "text": [
      "88\n",
      "Batch X shape: torch.Size([32, 30, 8])\n",
      "Batch y shape: torch.Size([32, 1])\n"
     ]
    }
   ],
   "source": [
    "# Creamos Datasets y Dataloaders de Pytorch\n",
    "from torch.utils.data import TensorDataset, DataLoader\n",
    "train_dataset = TensorDataset(X_train_tensor, y_train_tensor) # Instanciamos la clase TendorDataSet \n",
    "test_dataset = TensorDataset(X_test_tensor, y_test_tensor)\n",
    "\n",
    "batch_size = 32\n",
    "\n",
    "train_loader = DataLoader(train_dataset, batch_size, shuffle=True) # Instanciamos la clase DataLoader\n",
    "test_loader = DataLoader(test_dataset, batch_size, shuffle=False)\n",
    "\n",
    "print(len(train_loader))\n",
    "for batch_X, batch_y in train_loader:\n",
    "    print(\"Batch X shape:\", batch_X.shape)\n",
    "    print(\"Batch y shape:\", batch_y.shape)\n",
    "      # Solo el primer batch\n",
    "    break\n"
   ]
  },
  {
   "cell_type": "code",
   "execution_count": 56,
   "metadata": {},
   "outputs": [
    {
     "name": "stdout",
     "output_type": "stream",
     "text": [
      "cuda\n",
      "MiLSTM(\n",
      "  (lstm): LSTM(8, 64, num_layers=2, batch_first=True)\n",
      "  (fc): Linear(in_features=64, out_features=1, bias=True)\n",
      ")\n"
     ]
    }
   ],
   "source": [
    "import torch\n",
    "import torch.nn as nn \n",
    "\n",
    "device = 'cuda' if torch.cuda.is_available() else 'cpu'\n",
    "print (device)\n",
    "\n",
    "class MiLSTM (nn.Module):\n",
    "    def __init__(self, input_size, hidden_size, num_layers, output_size ):\n",
    "        super().__init__()\n",
    "        self.input_size = input_size\n",
    "        self.hidden_size = hidden_size\n",
    "        self.num_layers = num_layers\n",
    "        self.output_size = output_size\n",
    "        # Definimos 1 capa LSTM y un Full Connected \n",
    "        self.lstm = nn.LSTM(input_size, hidden_size, num_layers, batch_first=True) #Ej [8, 64, 2, (batch_size, seq_length, hidden_size)]\n",
    "        self.fc = nn.Linear(hidden_size, output_size)\n",
    "    \n",
    "    def forward(self, x):\n",
    "        # Estados ocultos y celdas en 0 (num_layers, batch_size, hidden_size)\n",
    "        h0 = torch.zeros(self.num_layers, x.size(0), self.hidden_size).to(x.device) # Ej [2, 32, 64]\n",
    "        c0 = torch.zeros(self.num_layers, x.size(0), self.hidden_size).to(x.device) # Ej [2, 32, 64]\n",
    "\n",
    "        # Pasa la entrada por la capa LSTM \n",
    "        out, _ = self.lstm(x, (h0,c0)) #LLamo a la instancia de lstm (llamo a su metodo __call__ (no necesita nombre)) (batch_size, seq_length, hidden_size) [32, 30, 64]\n",
    "\n",
    "        #Seleccionamos la ultima salida de la secuencia\n",
    "        out = out[:,-1,:] # (batch_size , hidden_size) [32,64]\n",
    "\n",
    "        #Pasa por la fc\n",
    "        out = self.fc(out) # (batch_size, output_size) Ej [32,1]\n",
    "\n",
    "        return out\n",
    "\n",
    "# Parametros del modelo \n",
    "input_size = 8 \n",
    "hidden_size = 64 \n",
    "num_layers  = 2\n",
    "output_size = 1 # Clasificacion \n",
    "\n",
    "model = MiLSTM(input_size, hidden_size, num_layers, output_size).to(device)\n",
    "print(model) "
   ]
  },
  {
   "cell_type": "code",
   "execution_count": 57,
   "metadata": {},
   "outputs": [
    {
     "name": "stdout",
     "output_type": "stream",
     "text": [
      "Epoch [10/50], Loss: 0.7140\n",
      "Epoch [20/50], Loss: 0.6772\n",
      "Epoch [30/50], Loss: 0.6946\n",
      "Epoch [40/50], Loss: 0.6973\n",
      "Epoch [50/50], Loss: 0.6447\n"
     ]
    }
   ],
   "source": [
    "# Definir la función de pérdida y el optimizador\n",
    "criterion = nn.BCEWithLogitsLoss()\n",
    "optimizer = torch.optim.Adam(model.parameters(), lr=0.001)\n",
    "\n",
    "# Entrenamiento del modelo\n",
    "num_epochs = 50 \n",
    "model.train()\n",
    "\n",
    "for epoch in range(num_epochs):\n",
    "    for batch_X, batch_y in train_loader:\n",
    "        batch_X = batch_X.to(device) #[32, 30, 8]\n",
    "        batch_y = batch_y.to(device) #[32, 1]\n",
    "\n",
    "        outputs = model(batch_X).squeeze() # [batch_size, 1] => [batch_size] \n",
    "\n",
    "        loss = criterion(outputs, batch_y.squeeze())\n",
    "\n",
    "        loss.backward()\n",
    "\n",
    "        optimizer.step()\n",
    "\n",
    "        optimizer.zero_grad()\n",
    "    if (epoch + 1 ) % 10 == 0:\n",
    "        print(f'Epoch [{epoch+1}/{num_epochs}], Loss: {loss.item():.4f}')\n",
    "\n",
    "\n",
    "\n"
   ]
  },
  {
   "cell_type": "code",
   "execution_count": 58,
   "metadata": {},
   "outputs": [
    {
     "name": "stdout",
     "output_type": "stream",
     "text": [
      "Accuracy on test set: 50.07%\n"
     ]
    }
   ],
   "source": [
    "model.eval()  # Modo de evaluación\n",
    "with torch.no_grad():\n",
    "    correct = 0\n",
    "    total = 0\n",
    "    for batch_X, batch_y in test_loader:\n",
    "        batch_X = batch_X.to(device)\n",
    "        batch_y = batch_y.to(device)\n",
    "\n",
    "        outputs = model(batch_X).squeeze()   # Logits\n",
    "        probs = torch.sigmoid(outputs)       # Probabilidades\n",
    "        predicted = torch.round(probs)       # Predicciones binarias (0 o 1)\n",
    "\n",
    "        total += batch_y.size(0)\n",
    "        correct += (predicted == batch_y.squeeze()).sum().item()\n",
    "\n",
    "    accuracy = 100 * correct / total\n",
    "    print(f'Accuracy on test set: {accuracy:.2f}%')"
   ]
  }
 ],
 "metadata": {
  "kernelspec": {
   "display_name": "base",
   "language": "python",
   "name": "python3"
  },
  "language_info": {
   "codemirror_mode": {
    "name": "ipython",
    "version": 3
   },
   "file_extension": ".py",
   "mimetype": "text/x-python",
   "name": "python",
   "nbconvert_exporter": "python",
   "pygments_lexer": "ipython3",
   "version": "3.12.3"
  }
 },
 "nbformat": 4,
 "nbformat_minor": 2
}
