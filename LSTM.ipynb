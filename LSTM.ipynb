{
 "cells": [
  {
   "cell_type": "markdown",
   "metadata": {},
   "source": [
    "### LSTM"
   ]
  },
  {
   "cell_type": "code",
   "execution_count": 1,
   "metadata": {},
   "outputs": [
    {
     "data": {
      "text/html": [
       "<div>\n",
       "<style scoped>\n",
       "    .dataframe tbody tr th:only-of-type {\n",
       "        vertical-align: middle;\n",
       "    }\n",
       "\n",
       "    .dataframe tbody tr th {\n",
       "        vertical-align: top;\n",
       "    }\n",
       "\n",
       "    .dataframe thead th {\n",
       "        text-align: right;\n",
       "    }\n",
       "</style>\n",
       "<table border=\"1\" class=\"dataframe\">\n",
       "  <thead>\n",
       "    <tr style=\"text-align: right;\">\n",
       "      <th></th>\n",
       "      <th>Close</th>\n",
       "      <th>sma</th>\n",
       "      <th>ema20</th>\n",
       "      <th>ema50</th>\n",
       "      <th>ema200</th>\n",
       "      <th>rsi</th>\n",
       "      <th>macd</th>\n",
       "      <th>macd_signal</th>\n",
       "      <th>Close_future</th>\n",
       "      <th>Price_Up</th>\n",
       "    </tr>\n",
       "    <tr>\n",
       "      <th>Date</th>\n",
       "      <th></th>\n",
       "      <th></th>\n",
       "      <th></th>\n",
       "      <th></th>\n",
       "      <th></th>\n",
       "      <th></th>\n",
       "      <th></th>\n",
       "      <th></th>\n",
       "      <th></th>\n",
       "      <th></th>\n",
       "    </tr>\n",
       "  </thead>\n",
       "  <tbody>\n",
       "    <tr>\n",
       "      <th>2015-04-04</th>\n",
       "      <td>253.697006</td>\n",
       "      <td>266.058734</td>\n",
       "      <td>255.661524</td>\n",
       "      <td>258.734938</td>\n",
       "      <td>307.338692</td>\n",
       "      <td>47.508324</td>\n",
       "      <td>-4.193133</td>\n",
       "      <td>-3.906538</td>\n",
       "      <td>260.597992</td>\n",
       "      <td>1</td>\n",
       "    </tr>\n",
       "    <tr>\n",
       "      <th>2015-04-05</th>\n",
       "      <td>260.597992</td>\n",
       "      <td>265.654567</td>\n",
       "      <td>256.131663</td>\n",
       "      <td>258.807999</td>\n",
       "      <td>306.873610</td>\n",
       "      <td>52.432292</td>\n",
       "      <td>-3.252122</td>\n",
       "      <td>-3.775655</td>\n",
       "      <td>255.492004</td>\n",
       "      <td>0</td>\n",
       "    </tr>\n",
       "    <tr>\n",
       "      <th>2015-04-06</th>\n",
       "      <td>255.492004</td>\n",
       "      <td>264.962268</td>\n",
       "      <td>256.070744</td>\n",
       "      <td>258.677960</td>\n",
       "      <td>306.362350</td>\n",
       "      <td>48.785829</td>\n",
       "      <td>-2.885117</td>\n",
       "      <td>-3.597547</td>\n",
       "      <td>253.179993</td>\n",
       "      <td>0</td>\n",
       "    </tr>\n",
       "    <tr>\n",
       "      <th>2015-04-07</th>\n",
       "      <td>253.179993</td>\n",
       "      <td>264.256468</td>\n",
       "      <td>255.795434</td>\n",
       "      <td>258.462354</td>\n",
       "      <td>305.833173</td>\n",
       "      <td>47.185618</td>\n",
       "      <td>-2.749132</td>\n",
       "      <td>-3.427864</td>\n",
       "      <td>245.022003</td>\n",
       "      <td>0</td>\n",
       "    </tr>\n",
       "    <tr>\n",
       "      <th>2015-04-08</th>\n",
       "      <td>245.022003</td>\n",
       "      <td>262.770301</td>\n",
       "      <td>254.769393</td>\n",
       "      <td>257.935281</td>\n",
       "      <td>305.228086</td>\n",
       "      <td>41.956153</td>\n",
       "      <td>-3.262042</td>\n",
       "      <td>-3.394700</td>\n",
       "      <td>243.675995</td>\n",
       "      <td>0</td>\n",
       "    </tr>\n",
       "    <tr>\n",
       "      <th>...</th>\n",
       "      <td>...</td>\n",
       "      <td>...</td>\n",
       "      <td>...</td>\n",
       "      <td>...</td>\n",
       "      <td>...</td>\n",
       "      <td>...</td>\n",
       "      <td>...</td>\n",
       "      <td>...</td>\n",
       "      <td>...</td>\n",
       "      <td>...</td>\n",
       "    </tr>\n",
       "    <tr>\n",
       "      <th>2024-11-30</th>\n",
       "      <td>96449.054688</td>\n",
       "      <td>86570.707812</td>\n",
       "      <td>91648.316009</td>\n",
       "      <td>82261.362670</td>\n",
       "      <td>68184.502386</td>\n",
       "      <td>65.500818</td>\n",
       "      <td>5191.352498</td>\n",
       "      <td>5794.364534</td>\n",
       "      <td>97279.789062</td>\n",
       "      <td>1</td>\n",
       "    </tr>\n",
       "    <tr>\n",
       "      <th>2024-12-01</th>\n",
       "      <td>97279.789062</td>\n",
       "      <td>87497.285156</td>\n",
       "      <td>92184.646776</td>\n",
       "      <td>82850.320568</td>\n",
       "      <td>68474.007726</td>\n",
       "      <td>66.656792</td>\n",
       "      <td>5022.591458</td>\n",
       "      <td>5640.009918</td>\n",
       "      <td>95865.304688</td>\n",
       "      <td>0</td>\n",
       "    </tr>\n",
       "    <tr>\n",
       "      <th>2024-12-02</th>\n",
       "      <td>95865.304688</td>\n",
       "      <td>88383.152865</td>\n",
       "      <td>92535.185625</td>\n",
       "      <td>83360.712102</td>\n",
       "      <td>68746.557944</td>\n",
       "      <td>62.798383</td>\n",
       "      <td>4720.297400</td>\n",
       "      <td>5456.067415</td>\n",
       "      <td>96002.164062</td>\n",
       "      <td>1</td>\n",
       "    </tr>\n",
       "    <tr>\n",
       "      <th>2024-12-03</th>\n",
       "      <td>96002.164062</td>\n",
       "      <td>89291.854427</td>\n",
       "      <td>92865.374047</td>\n",
       "      <td>83856.455316</td>\n",
       "      <td>69017.758005</td>\n",
       "      <td>63.021419</td>\n",
       "      <td>4440.582320</td>\n",
       "      <td>5252.970396</td>\n",
       "      <td>98768.531250</td>\n",
       "      <td>1</td>\n",
       "    </tr>\n",
       "    <tr>\n",
       "      <th>2024-12-04</th>\n",
       "      <td>98768.531250</td>\n",
       "      <td>90323.755208</td>\n",
       "      <td>93427.579495</td>\n",
       "      <td>84441.242608</td>\n",
       "      <td>69313.785600</td>\n",
       "      <td>67.290264</td>\n",
       "      <td>4391.506266</td>\n",
       "      <td>5080.677570</td>\n",
       "      <td>99816.343750</td>\n",
       "      <td>1</td>\n",
       "    </tr>\n",
       "  </tbody>\n",
       "</table>\n",
       "<p>3533 rows × 10 columns</p>\n",
       "</div>"
      ],
      "text/plain": [
       "                   Close           sma         ema20         ema50  \\\n",
       "Date                                                                 \n",
       "2015-04-04    253.697006    266.058734    255.661524    258.734938   \n",
       "2015-04-05    260.597992    265.654567    256.131663    258.807999   \n",
       "2015-04-06    255.492004    264.962268    256.070744    258.677960   \n",
       "2015-04-07    253.179993    264.256468    255.795434    258.462354   \n",
       "2015-04-08    245.022003    262.770301    254.769393    257.935281   \n",
       "...                  ...           ...           ...           ...   \n",
       "2024-11-30  96449.054688  86570.707812  91648.316009  82261.362670   \n",
       "2024-12-01  97279.789062  87497.285156  92184.646776  82850.320568   \n",
       "2024-12-02  95865.304688  88383.152865  92535.185625  83360.712102   \n",
       "2024-12-03  96002.164062  89291.854427  92865.374047  83856.455316   \n",
       "2024-12-04  98768.531250  90323.755208  93427.579495  84441.242608   \n",
       "\n",
       "                  ema200        rsi         macd  macd_signal  Close_future  \\\n",
       "Date                                                                          \n",
       "2015-04-04    307.338692  47.508324    -4.193133    -3.906538    260.597992   \n",
       "2015-04-05    306.873610  52.432292    -3.252122    -3.775655    255.492004   \n",
       "2015-04-06    306.362350  48.785829    -2.885117    -3.597547    253.179993   \n",
       "2015-04-07    305.833173  47.185618    -2.749132    -3.427864    245.022003   \n",
       "2015-04-08    305.228086  41.956153    -3.262042    -3.394700    243.675995   \n",
       "...                  ...        ...          ...          ...           ...   \n",
       "2024-11-30  68184.502386  65.500818  5191.352498  5794.364534  97279.789062   \n",
       "2024-12-01  68474.007726  66.656792  5022.591458  5640.009918  95865.304688   \n",
       "2024-12-02  68746.557944  62.798383  4720.297400  5456.067415  96002.164062   \n",
       "2024-12-03  69017.758005  63.021419  4440.582320  5252.970396  98768.531250   \n",
       "2024-12-04  69313.785600  67.290264  4391.506266  5080.677570  99816.343750   \n",
       "\n",
       "            Price_Up  \n",
       "Date                  \n",
       "2015-04-04         1  \n",
       "2015-04-05         0  \n",
       "2015-04-06         0  \n",
       "2015-04-07         0  \n",
       "2015-04-08         0  \n",
       "...              ...  \n",
       "2024-11-30         1  \n",
       "2024-12-01         0  \n",
       "2024-12-02         1  \n",
       "2024-12-03         1  \n",
       "2024-12-04         1  \n",
       "\n",
       "[3533 rows x 10 columns]"
      ]
     },
     "execution_count": 1,
     "metadata": {},
     "output_type": "execute_result"
    }
   ],
   "source": [
    "import pandas as pd\n",
    "import numpy as np\n",
    "data = pd.read_csv('BTC-Indicators.csv', parse_dates=['Date'], index_col=['Date'])\n",
    "data"
   ]
  },
  {
   "cell_type": "code",
   "execution_count": 2,
   "metadata": {},
   "outputs": [
    {
     "data": {
      "text/plain": [
       "((3533, 1),\n",
       " array([[1],\n",
       "        [0],\n",
       "        [0],\n",
       "        ...,\n",
       "        [1],\n",
       "        [1],\n",
       "        [1]], dtype=int64))"
      ]
     },
     "execution_count": 2,
     "metadata": {},
     "output_type": "execute_result"
    }
   ],
   "source": [
    "features = ['Close', 'sma', 'ema20', 'ema50', 'ema200', 'rsi', 'macd', 'macd_signal']\n",
    "target = ['Price_Up']\n",
    "# Separar X e y\n",
    "X = data[features]\n",
    "y = data[target].to_numpy()\n",
    "y.shape, y"
   ]
  },
  {
   "cell_type": "code",
   "execution_count": 3,
   "metadata": {},
   "outputs": [
    {
     "data": {
      "text/plain": [
       "((3533, 8),\n",
       " array([[-0.93202605, -0.94080889, -0.93947655, ..., -0.45317299,\n",
       "         -0.153607  , -0.1574351 ],\n",
       "        [-0.93170146, -0.94082848, -0.93945397, ..., -0.10429159,\n",
       "         -0.15279471, -0.15731524],\n",
       "        [-0.93194162, -0.94086202, -0.9394569 , ..., -0.362657  ,\n",
       "         -0.15247791, -0.15715212],\n",
       "        ...,\n",
       "        [ 3.56511431,  3.32887102,  3.49210365, ...,  0.6301845 ,\n",
       "          3.92460032,  4.84291506],\n",
       "        [ 3.57155156,  3.37290181,  3.50796043, ...,  0.64598744,\n",
       "          3.68314866,  4.65691486],\n",
       "        [ 3.70166904,  3.42290216,  3.53495947, ...,  0.948451  ,\n",
       "          3.64078593,  4.49912575]]))"
      ]
     },
     "execution_count": 3,
     "metadata": {},
     "output_type": "execute_result"
    }
   ],
   "source": [
    "from sklearn.preprocessing import StandardScaler\n",
    "scaler = StandardScaler()\n",
    "X_scaled = scaler.fit_transform(X) # Ya lo convierte en un array de numpy \n",
    "X_scaled.shape, X_scaled"
   ]
  },
  {
   "cell_type": "code",
   "execution_count": 4,
   "metadata": {},
   "outputs": [
    {
     "data": {
      "text/plain": [
       "((3503, 30, 8), (3503, 1))"
      ]
     },
     "execution_count": 4,
     "metadata": {},
     "output_type": "execute_result"
    }
   ],
   "source": [
    "sequence_length = 30 # Ventana temporal de 30 dias \n",
    "X_sequences = []\n",
    "y_sequences = []\n",
    "for i in range(sequence_length, len(X_scaled)): # X_scaled tiene dimension de 1000, X_sequences tendra 1000 - 30(sequence_leght)\n",
    "    X_sequences.append(X_scaled[i - sequence_length: i])\n",
    "    y_sequences.append(y[i])\n",
    "X_sequences = np.array(X_sequences)\n",
    "y_sequences = np.array(y_sequences)\n",
    "X_sequences.shape, y_sequences.shape\n"
   ]
  },
  {
   "cell_type": "code",
   "execution_count": 5,
   "metadata": {},
   "outputs": [],
   "source": [
    "from sklearn.model_selection import train_test_split\n",
    "X_train, X_test, y_train, y_test = train_test_split(\n",
    "    X_sequences, y_sequences, test_size=0.01, shuffle=False)"
   ]
  },
  {
   "cell_type": "code",
   "execution_count": 6,
   "metadata": {},
   "outputs": [
    {
     "name": "stderr",
     "output_type": "stream",
     "text": [
      "c:\\Users\\ivoto\\miniconda3\\Lib\\site-packages\\keras\\src\\layers\\rnn\\bidirectional.py:107: UserWarning: Do not pass an `input_shape`/`input_dim` argument to a layer. When using Sequential models, prefer using an `Input(shape)` object as the first layer in the model instead.\n",
      "  super().__init__(**kwargs)\n"
     ]
    }
   ],
   "source": [
    "from tensorflow.keras.models import Sequential # type: ignore\n",
    "from tensorflow.keras.layers import Dense, LSTM, Dropout, BatchNormalization, Bidirectional  # type: ignore\n",
    "from tensorflow.keras.optimizers import Adam  # type: ignore\n",
    "\n",
    "model = Sequential()\n",
    "model.add(Bidirectional(LSTM(units=100, return_sequences=False), input_shape=(X_train.shape[1], X_train.shape[2])))\n",
    "model.add(Dropout(0.2))\n",
    "model.add(BatchNormalization())\n",
    "\n",
    "# model.add(Bidirectional(LSTM(units=100, return_sequences=False)))\n",
    "# model.add(Dropout(0.2))\n",
    "# model.add(BatchNormalization())\n",
    "\n",
    "model.add(Dense(units=15, activation='relu'))\n",
    "model.add(Dropout(0.2))\n",
    "\n",
    "model.add(Dense(units=1, activation='sigmoid'))\n",
    "\n",
    "model.compile(optimizer=Adam(learning_rate=0.001), loss='binary_crossentropy', metrics=['accuracy'])\n"
   ]
  },
  {
   "cell_type": "code",
   "execution_count": 7,
   "metadata": {},
   "outputs": [
    {
     "name": "stdout",
     "output_type": "stream",
     "text": [
      "Epoch 1/25\n",
      "\u001b[1m109/109\u001b[0m \u001b[32m━━━━━━━━━━━━━━━━━━━━\u001b[0m\u001b[37m\u001b[0m \u001b[1m4s\u001b[0m 13ms/step - accuracy: 0.4942 - loss: 0.7658 - val_accuracy: 0.5833 - val_loss: 0.6865\n",
      "Epoch 2/25\n",
      "\u001b[1m109/109\u001b[0m \u001b[32m━━━━━━━━━━━━━━━━━━━━\u001b[0m\u001b[37m\u001b[0m \u001b[1m1s\u001b[0m 10ms/step - accuracy: 0.4890 - loss: 0.7263 - val_accuracy: 0.5278 - val_loss: 0.6923\n",
      "Epoch 3/25\n",
      "\u001b[1m109/109\u001b[0m \u001b[32m━━━━━━━━━━━━━━━━━━━━\u001b[0m\u001b[37m\u001b[0m \u001b[1m1s\u001b[0m 10ms/step - accuracy: 0.5083 - loss: 0.7097 - val_accuracy: 0.4167 - val_loss: 0.7437\n",
      "Epoch 4/25\n",
      "\u001b[1m109/109\u001b[0m \u001b[32m━━━━━━━━━━━━━━━━━━━━\u001b[0m\u001b[37m\u001b[0m \u001b[1m1s\u001b[0m 10ms/step - accuracy: 0.5289 - loss: 0.7001 - val_accuracy: 0.5278 - val_loss: 0.6845\n",
      "Epoch 5/25\n",
      "\u001b[1m109/109\u001b[0m \u001b[32m━━━━━━━━━━━━━━━━━━━━\u001b[0m\u001b[37m\u001b[0m \u001b[1m1s\u001b[0m 10ms/step - accuracy: 0.5211 - loss: 0.6983 - val_accuracy: 0.5833 - val_loss: 0.6875\n",
      "Epoch 6/25\n",
      "\u001b[1m109/109\u001b[0m \u001b[32m━━━━━━━━━━━━━━━━━━━━\u001b[0m\u001b[37m\u001b[0m \u001b[1m1s\u001b[0m 10ms/step - accuracy: 0.5263 - loss: 0.6971 - val_accuracy: 0.5278 - val_loss: 0.6929\n",
      "Epoch 7/25\n",
      "\u001b[1m109/109\u001b[0m \u001b[32m━━━━━━━━━━━━━━━━━━━━\u001b[0m\u001b[37m\u001b[0m \u001b[1m1s\u001b[0m 10ms/step - accuracy: 0.5241 - loss: 0.6955 - val_accuracy: 0.4167 - val_loss: 0.7219\n",
      "Epoch 8/25\n",
      "\u001b[1m109/109\u001b[0m \u001b[32m━━━━━━━━━━━━━━━━━━━━\u001b[0m\u001b[37m\u001b[0m \u001b[1m1s\u001b[0m 10ms/step - accuracy: 0.5332 - loss: 0.6920 - val_accuracy: 0.5833 - val_loss: 0.6880\n",
      "Epoch 9/25\n",
      "\u001b[1m109/109\u001b[0m \u001b[32m━━━━━━━━━━━━━━━━━━━━\u001b[0m\u001b[37m\u001b[0m \u001b[1m1s\u001b[0m 10ms/step - accuracy: 0.5472 - loss: 0.6899 - val_accuracy: 0.4167 - val_loss: 0.6986\n",
      "Epoch 10/25\n",
      "\u001b[1m109/109\u001b[0m \u001b[32m━━━━━━━━━━━━━━━━━━━━\u001b[0m\u001b[37m\u001b[0m \u001b[1m1s\u001b[0m 10ms/step - accuracy: 0.5251 - loss: 0.6920 - val_accuracy: 0.4722 - val_loss: 0.6919\n",
      "Epoch 11/25\n",
      "\u001b[1m109/109\u001b[0m \u001b[32m━━━━━━━━━━━━━━━━━━━━\u001b[0m\u001b[37m\u001b[0m \u001b[1m1s\u001b[0m 10ms/step - accuracy: 0.5318 - loss: 0.6926 - val_accuracy: 0.4167 - val_loss: 0.6950\n",
      "Epoch 12/25\n",
      "\u001b[1m109/109\u001b[0m \u001b[32m━━━━━━━━━━━━━━━━━━━━\u001b[0m\u001b[37m\u001b[0m \u001b[1m1s\u001b[0m 10ms/step - accuracy: 0.5111 - loss: 0.6891 - val_accuracy: 0.4167 - val_loss: 0.6977\n",
      "Epoch 13/25\n",
      "\u001b[1m109/109\u001b[0m \u001b[32m━━━━━━━━━━━━━━━━━━━━\u001b[0m\u001b[37m\u001b[0m \u001b[1m1s\u001b[0m 10ms/step - accuracy: 0.5342 - loss: 0.6886 - val_accuracy: 0.4722 - val_loss: 0.6930\n",
      "Epoch 14/25\n",
      "\u001b[1m109/109\u001b[0m \u001b[32m━━━━━━━━━━━━━━━━━━━━\u001b[0m\u001b[37m\u001b[0m \u001b[1m1s\u001b[0m 10ms/step - accuracy: 0.5302 - loss: 0.6871 - val_accuracy: 0.4167 - val_loss: 0.7012\n",
      "Epoch 15/25\n",
      "\u001b[1m109/109\u001b[0m \u001b[32m━━━━━━━━━━━━━━━━━━━━\u001b[0m\u001b[37m\u001b[0m \u001b[1m1s\u001b[0m 10ms/step - accuracy: 0.5268 - loss: 0.6894 - val_accuracy: 0.5833 - val_loss: 0.6845\n",
      "Epoch 16/25\n",
      "\u001b[1m109/109\u001b[0m \u001b[32m━━━━━━━━━━━━━━━━━━━━\u001b[0m\u001b[37m\u001b[0m \u001b[1m1s\u001b[0m 10ms/step - accuracy: 0.5359 - loss: 0.6896 - val_accuracy: 0.5833 - val_loss: 0.6910\n",
      "Epoch 17/25\n",
      "\u001b[1m109/109\u001b[0m \u001b[32m━━━━━━━━━━━━━━━━━━━━\u001b[0m\u001b[37m\u001b[0m \u001b[1m1s\u001b[0m 10ms/step - accuracy: 0.5387 - loss: 0.6880 - val_accuracy: 0.4444 - val_loss: 0.6949\n",
      "Epoch 18/25\n",
      "\u001b[1m109/109\u001b[0m \u001b[32m━━━━━━━━━━━━━━━━━━━━\u001b[0m\u001b[37m\u001b[0m \u001b[1m1s\u001b[0m 10ms/step - accuracy: 0.5305 - loss: 0.6912 - val_accuracy: 0.4722 - val_loss: 0.6940\n",
      "Epoch 19/25\n",
      "\u001b[1m109/109\u001b[0m \u001b[32m━━━━━━━━━━━━━━━━━━━━\u001b[0m\u001b[37m\u001b[0m \u001b[1m1s\u001b[0m 10ms/step - accuracy: 0.5382 - loss: 0.6890 - val_accuracy: 0.5833 - val_loss: 0.6898\n",
      "Epoch 20/25\n",
      "\u001b[1m109/109\u001b[0m \u001b[32m━━━━━━━━━━━━━━━━━━━━\u001b[0m\u001b[37m\u001b[0m \u001b[1m1s\u001b[0m 10ms/step - accuracy: 0.5350 - loss: 0.6894 - val_accuracy: 0.5833 - val_loss: 0.6899\n",
      "Epoch 21/25\n",
      "\u001b[1m109/109\u001b[0m \u001b[32m━━━━━━━━━━━━━━━━━━━━\u001b[0m\u001b[37m\u001b[0m \u001b[1m1s\u001b[0m 10ms/step - accuracy: 0.5297 - loss: 0.6907 - val_accuracy: 0.4444 - val_loss: 0.6928\n",
      "Epoch 22/25\n",
      "\u001b[1m109/109\u001b[0m \u001b[32m━━━━━━━━━━━━━━━━━━━━\u001b[0m\u001b[37m\u001b[0m \u001b[1m1s\u001b[0m 10ms/step - accuracy: 0.5437 - loss: 0.6872 - val_accuracy: 0.5833 - val_loss: 0.6900\n",
      "Epoch 23/25\n",
      "\u001b[1m109/109\u001b[0m \u001b[32m━━━━━━━━━━━━━━━━━━━━\u001b[0m\u001b[37m\u001b[0m \u001b[1m1s\u001b[0m 10ms/step - accuracy: 0.5471 - loss: 0.6879 - val_accuracy: 0.4167 - val_loss: 0.7032\n",
      "Epoch 24/25\n",
      "\u001b[1m109/109\u001b[0m \u001b[32m━━━━━━━━━━━━━━━━━━━━\u001b[0m\u001b[37m\u001b[0m \u001b[1m1s\u001b[0m 10ms/step - accuracy: 0.5387 - loss: 0.6880 - val_accuracy: 0.5833 - val_loss: 0.6908\n",
      "Epoch 25/25\n",
      "\u001b[1m109/109\u001b[0m \u001b[32m━━━━━━━━━━━━━━━━━━━━\u001b[0m\u001b[37m\u001b[0m \u001b[1m1s\u001b[0m 10ms/step - accuracy: 0.5448 - loss: 0.6893 - val_accuracy: 0.4167 - val_loss: 0.6969\n"
     ]
    }
   ],
   "source": [
    "history = model.fit(\n",
    "    X_train, y_train,\n",
    "    epochs=25,\n",
    "    batch_size=32,\n",
    "    validation_data=(X_test, y_test)\n",
    ")"
   ]
  },
  {
   "cell_type": "code",
   "execution_count": 8,
   "metadata": {},
   "outputs": [
    {
     "name": "stdout",
     "output_type": "stream",
     "text": [
      "\u001b[1m2/2\u001b[0m \u001b[32m━━━━━━━━━━━━━━━━━━━━\u001b[0m\u001b[37m\u001b[0m \u001b[1m0s\u001b[0m 17ms/step - accuracy: 0.4236 - loss: 0.6967\n",
      "Precisión del modelo LSTM: 0.42\n"
     ]
    }
   ],
   "source": [
    "# 9. Evaluar el modelo\n",
    "loss, accuracy = model.evaluate(X_test, y_test)\n",
    "print(f'Precisión del modelo LSTM: {accuracy:.2f}')"
   ]
  },
  {
   "cell_type": "code",
   "execution_count": 9,
   "metadata": {},
   "outputs": [
    {
     "name": "stdout",
     "output_type": "stream",
     "text": [
      "\u001b[1m2/2\u001b[0m \u001b[32m━━━━━━━━━━━━━━━━━━━━\u001b[0m\u001b[37m\u001b[0m \u001b[1m0s\u001b[0m 232ms/step\n",
      "              precision    recall  f1-score   support\n",
      "\n",
      "           0       0.42      1.00      0.59        15\n",
      "           1       0.00      0.00      0.00        21\n",
      "\n",
      "    accuracy                           0.42        36\n",
      "   macro avg       0.21      0.50      0.29        36\n",
      "weighted avg       0.17      0.42      0.25        36\n",
      "\n",
      "[[15  0]\n",
      " [21  0]]\n"
     ]
    },
    {
     "name": "stderr",
     "output_type": "stream",
     "text": [
      "c:\\Users\\ivoto\\miniconda3\\Lib\\site-packages\\sklearn\\metrics\\_classification.py:1509: UndefinedMetricWarning: Precision is ill-defined and being set to 0.0 in labels with no predicted samples. Use `zero_division` parameter to control this behavior.\n",
      "  _warn_prf(average, modifier, f\"{metric.capitalize()} is\", len(result))\n",
      "c:\\Users\\ivoto\\miniconda3\\Lib\\site-packages\\sklearn\\metrics\\_classification.py:1509: UndefinedMetricWarning: Precision is ill-defined and being set to 0.0 in labels with no predicted samples. Use `zero_division` parameter to control this behavior.\n",
      "  _warn_prf(average, modifier, f\"{metric.capitalize()} is\", len(result))\n",
      "c:\\Users\\ivoto\\miniconda3\\Lib\\site-packages\\sklearn\\metrics\\_classification.py:1509: UndefinedMetricWarning: Precision is ill-defined and being set to 0.0 in labels with no predicted samples. Use `zero_division` parameter to control this behavior.\n",
      "  _warn_prf(average, modifier, f\"{metric.capitalize()} is\", len(result))\n"
     ]
    }
   ],
   "source": [
    "from sklearn.metrics import classification_report, confusion_matrix\n",
    "y_pred_prob = model.predict(X_test)\n",
    "y_pred = (y_pred_prob > 0.5).astype(int)\n",
    "\n",
    "print(classification_report(y_test, y_pred))\n",
    "print(confusion_matrix(y_test, y_pred))"
   ]
  },
  {
   "cell_type": "markdown",
   "metadata": {},
   "source": [
    "### Implementacion con Pytorch"
   ]
  },
  {
   "cell_type": "code",
   "execution_count": 10,
   "metadata": {},
   "outputs": [
    {
     "data": {
      "text/plain": [
       "(torch.Size([3467, 30, 8]),\n",
       " torch.Size([36, 30, 8]),\n",
       " torch.Size([3467, 1]),\n",
       " torch.Size([36, 1]))"
      ]
     },
     "execution_count": 10,
     "metadata": {},
     "output_type": "execute_result"
    }
   ],
   "source": [
    "# Convertimos los datos de Numpy a Tensores de Pytorch \n",
    "import torch\n",
    "X_train_tensor = torch.tensor(X_train, dtype=torch.float32)\n",
    "X_test_tensor = torch.tensor(X_test, dtype=torch.float32)\n",
    "y_train_tensor = torch.tensor(y_train, dtype=torch.float32)\n",
    "y_test_tensor = torch.tensor(y_test, dtype=torch.float32)\n",
    "\n",
    "X_train_tensor.shape, X_test_tensor.shape, y_train_tensor.shape, y_test_tensor.shape "
   ]
  },
  {
   "cell_type": "code",
   "execution_count": 11,
   "metadata": {},
   "outputs": [
    {
     "name": "stdout",
     "output_type": "stream",
     "text": [
      "Batch X shape: torch.Size([32, 30, 8])\n",
      "Batch y shape: torch.Size([32, 1])\n"
     ]
    }
   ],
   "source": [
    "# Creamos Datasets y Dataloaders de Pytorch\n",
    "from torch.utils.data import TensorDataset, DataLoader\n",
    "train_dataset = TensorDataset(X_train_tensor, y_train_tensor) # Instanciamos la clase TendorDataSet \n",
    "test_dataset = TensorDataset(X_test_tensor, y_test_tensor)\n",
    "\n",
    "batch_size = 32\n",
    "\n",
    "train_loader = DataLoader(train_dataset, batch_size, shuffle=False) # Instanciamos la clase DataLoader\n",
    "test_loader = DataLoader(test_dataset, batch_size, shuffle=False)\n",
    "\n",
    "for batch_X, batch_y in train_loader:\n",
    "    print(\"Batch X shape:\", batch_X.shape)\n",
    "    print(\"Batch y shape:\", batch_y.shape)\n",
    "      # Solo el primer batch\n",
    "    break\n"
   ]
  },
  {
   "cell_type": "code",
   "execution_count": 17,
   "metadata": {},
   "outputs": [
    {
     "name": "stdout",
     "output_type": "stream",
     "text": [
      "cuda\n",
      "MiLSTM(\n",
      "  (lstm): LSTM(8, 64, num_layers=2, batch_first=True)\n",
      "  (fc): Linear(in_features=64, out_features=1, bias=True)\n",
      ")\n"
     ]
    }
   ],
   "source": [
    "import torch\n",
    "import torch.nn as nn \n",
    "\n",
    "device = 'cuda' if torch.cuda.is_available() else 'cpu'\n",
    "print (device)\n",
    "\n",
    "class MiLSTM (nn.Module):\n",
    "    def __init__(self, input_size, hidden_size, num_layers, output_size ):\n",
    "        super().__init__()\n",
    "        self.input_size = input_size\n",
    "        self.hidden_size = hidden_size\n",
    "        self.num_layers = num_layers\n",
    "        self.output_size = output_size\n",
    "        # Definimos 1 capa LSTM y un Full Connected \n",
    "        self.lstm = nn.LSTM(input_size, hidden_size, num_layers, batch_first=True) #Ej [8, 64, 2, (batch_size, seq_length, hidden_size)]\n",
    "        self.fc = nn.Linear(hidden_size, output_size)\n",
    "    \n",
    "    def forward(self, x):\n",
    "        # Estados ocultos y celdas en 0 (num_layers, batch_size, hidden_size)\n",
    "        h0 = torch.zeros(self.num_layers, x.size(0), self.hidden_size).to(x.device) # Ej [2, 32, 64]\n",
    "        c0 = torch.zeros(self.num_layers, x.size(0), self.hidden_size).to(x.device) # Ej [2, 32, 64]\n",
    "\n",
    "        # Pasa la entrada por la capa LSTM \n",
    "        out, _ = self.lstm(x, (h0,c0)) #LLamo a la instancia de lstm (llamo a su metodo __call__ (no necesita nombre)) (batch_size, seq_length, hidden_size) [32, 30, 64]\n",
    "\n",
    "        #Seleccionamos la ultima salida de la secuencia\n",
    "        out = out[:,-1,:] # (batch_size , hidden_size) [32,64]\n",
    "\n",
    "        #Pasa por la fc\n",
    "        out = self.fc(out) # (batch_size, output_size) Ej [32,1]\n",
    "\n",
    "        return out\n",
    "\n",
    "# Parametros del modelo \n",
    "input_size = 8 \n",
    "hidden_size = 64 \n",
    "num_layers  = 2\n",
    "output_size = 1 # Clasificacion \n",
    "\n",
    "model = MiLSTM(input_size, hidden_size, num_layers, output_size).to(device)\n",
    "print(model) "
   ]
  },
  {
   "cell_type": "code",
   "execution_count": 20,
   "metadata": {},
   "outputs": [
    {
     "name": "stdout",
     "output_type": "stream",
     "text": [
      "Epoch [10/50], Loss: 0.6501\n",
      "Epoch [20/50], Loss: 0.5722\n",
      "Epoch [30/50], Loss: 0.5788\n",
      "Epoch [40/50], Loss: 0.5572\n",
      "Epoch [50/50], Loss: 0.8525\n"
     ]
    }
   ],
   "source": [
    "# Definir la función de pérdida y el optimizador\n",
    "creterion = nn.BCEWithLogitsLoss()\n",
    "optimizer = torch.optim.Adam(model.parameters(), lr=0.001)\n",
    "\n",
    "# Entrenamiento del modelo\n",
    "num_epochs = 50 \n",
    "model.train()\n",
    "\n",
    "for epoch in range(num_epochs):\n",
    "    for batch_X, batch_y in train_loader:\n",
    "        batch_X = batch_X.to(device)\n",
    "        batch_y = batch_y.to(device)\n",
    "\n",
    "        outputs = model(batch_X).squeeze()\n",
    "\n",
    "        loss = creterion(outputs, batch_y.squeeze())\n",
    "\n",
    "        loss.backward()\n",
    "\n",
    "        optimizer.step()\n",
    "\n",
    "        optimizer.zero_grad()\n",
    "    if (epoch + 1 ) % 10 == 0:\n",
    "        print(f'Epoch [{epoch+1}/{num_epochs}], Loss: {loss.item():.4f}')\n",
    "\n",
    "\n",
    "\n"
   ]
  },
  {
   "cell_type": "code",
   "execution_count": 21,
   "metadata": {},
   "outputs": [
    {
     "name": "stdout",
     "output_type": "stream",
     "text": [
      "Accuracy on test set: 58.33%\n"
     ]
    }
   ],
   "source": [
    "model.eval()  # Modo de evaluación\n",
    "with torch.no_grad():\n",
    "    correct = 0\n",
    "    total = 0\n",
    "    for batch_X, batch_y in test_loader:\n",
    "        batch_X = batch_X.to(device)\n",
    "        batch_y = batch_y.to(device)\n",
    "\n",
    "        outputs = model(batch_X).squeeze()  # Logits\n",
    "        probs = torch.sigmoid(outputs)       # Probabilidades\n",
    "        predicted = torch.round(probs)       # Predicciones binarias (0 o 1)\n",
    "\n",
    "        total += batch_y.size(0)\n",
    "        correct += (predicted == batch_y.squeeze()).sum().item()\n",
    "\n",
    "    accuracy = 100 * correct / total\n",
    "    print(f'Accuracy on test set: {accuracy:.2f}%')"
   ]
  }
 ],
 "metadata": {
  "kernelspec": {
   "display_name": "base",
   "language": "python",
   "name": "python3"
  },
  "language_info": {
   "codemirror_mode": {
    "name": "ipython",
    "version": 3
   },
   "file_extension": ".py",
   "mimetype": "text/x-python",
   "name": "python",
   "nbconvert_exporter": "python",
   "pygments_lexer": "ipython3",
   "version": "3.12.2"
  }
 },
 "nbformat": 4,
 "nbformat_minor": 2
}
