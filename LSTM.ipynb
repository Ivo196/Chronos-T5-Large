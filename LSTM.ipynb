{
 "cells": [
  {
   "cell_type": "markdown",
   "metadata": {},
   "source": [
    "### LSTM"
   ]
  },
  {
   "cell_type": "code",
   "execution_count": 1,
   "metadata": {},
   "outputs": [
    {
     "data": {
      "text/html": [
       "<div>\n",
       "<style scoped>\n",
       "    .dataframe tbody tr th:only-of-type {\n",
       "        vertical-align: middle;\n",
       "    }\n",
       "\n",
       "    .dataframe tbody tr th {\n",
       "        vertical-align: top;\n",
       "    }\n",
       "\n",
       "    .dataframe thead th {\n",
       "        text-align: right;\n",
       "    }\n",
       "</style>\n",
       "<table border=\"1\" class=\"dataframe\">\n",
       "  <thead>\n",
       "    <tr style=\"text-align: right;\">\n",
       "      <th></th>\n",
       "      <th>Close</th>\n",
       "      <th>ema20</th>\n",
       "      <th>ema50</th>\n",
       "      <th>rsi</th>\n",
       "      <th>macd</th>\n",
       "      <th>macd_signal</th>\n",
       "      <th>Price_Up</th>\n",
       "    </tr>\n",
       "    <tr>\n",
       "      <th>Date</th>\n",
       "      <th></th>\n",
       "      <th></th>\n",
       "      <th></th>\n",
       "      <th></th>\n",
       "      <th></th>\n",
       "      <th></th>\n",
       "      <th></th>\n",
       "    </tr>\n",
       "  </thead>\n",
       "  <tbody>\n",
       "    <tr>\n",
       "      <th>2015-02-11</th>\n",
       "      <td>219.184998</td>\n",
       "      <td>229.270971</td>\n",
       "      <td>250.640711</td>\n",
       "      <td>42.433898</td>\n",
       "      <td>-8.608123</td>\n",
       "      <td>-9.327306</td>\n",
       "      <td>1</td>\n",
       "    </tr>\n",
       "    <tr>\n",
       "      <th>2015-02-12</th>\n",
       "      <td>221.764008</td>\n",
       "      <td>228.556022</td>\n",
       "      <td>249.508291</td>\n",
       "      <td>43.901363</td>\n",
       "      <td>-8.210237</td>\n",
       "      <td>-9.103892</td>\n",
       "      <td>1</td>\n",
       "    </tr>\n",
       "    <tr>\n",
       "      <th>2015-02-13</th>\n",
       "      <td>235.427002</td>\n",
       "      <td>229.210401</td>\n",
       "      <td>248.956083</td>\n",
       "      <td>51.024304</td>\n",
       "      <td>-6.715013</td>\n",
       "      <td>-8.626116</td>\n",
       "      <td>1</td>\n",
       "    </tr>\n",
       "    <tr>\n",
       "      <th>2015-02-14</th>\n",
       "      <td>257.321014</td>\n",
       "      <td>231.887602</td>\n",
       "      <td>249.284120</td>\n",
       "      <td>59.826830</td>\n",
       "      <td>-3.720486</td>\n",
       "      <td>-7.644990</td>\n",
       "      <td>0</td>\n",
       "    </tr>\n",
       "    <tr>\n",
       "      <th>2015-02-15</th>\n",
       "      <td>234.824997</td>\n",
       "      <td>232.167354</td>\n",
       "      <td>248.717096</td>\n",
       "      <td>49.902257</td>\n",
       "      <td>-3.126502</td>\n",
       "      <td>-6.741292</td>\n",
       "      <td>0</td>\n",
       "    </tr>\n",
       "    <tr>\n",
       "      <th>...</th>\n",
       "      <td>...</td>\n",
       "      <td>...</td>\n",
       "      <td>...</td>\n",
       "      <td>...</td>\n",
       "      <td>...</td>\n",
       "      <td>...</td>\n",
       "      <td>...</td>\n",
       "    </tr>\n",
       "    <tr>\n",
       "      <th>2024-12-21</th>\n",
       "      <td>97224.726562</td>\n",
       "      <td>99069.601344</td>\n",
       "      <td>92289.965450</td>\n",
       "      <td>48.952697</td>\n",
       "      <td>1965.864891</td>\n",
       "      <td>3012.484494</td>\n",
       "      <td>0</td>\n",
       "    </tr>\n",
       "    <tr>\n",
       "      <th>2024-12-22</th>\n",
       "      <td>95104.937500</td>\n",
       "      <td>98692.014312</td>\n",
       "      <td>92400.356511</td>\n",
       "      <td>44.934433</td>\n",
       "      <td>1437.643624</td>\n",
       "      <td>2697.516320</td>\n",
       "      <td>0</td>\n",
       "    </tr>\n",
       "    <tr>\n",
       "      <th>2024-12-23</th>\n",
       "      <td>94686.242188</td>\n",
       "      <td>98310.512205</td>\n",
       "      <td>92489.999087</td>\n",
       "      <td>44.163328</td>\n",
       "      <td>974.011455</td>\n",
       "      <td>2352.815347</td>\n",
       "      <td>1</td>\n",
       "    </tr>\n",
       "    <tr>\n",
       "      <th>2024-12-24</th>\n",
       "      <td>98676.093750</td>\n",
       "      <td>98345.329495</td>\n",
       "      <td>92732.591034</td>\n",
       "      <td>52.524176</td>\n",
       "      <td>917.945789</td>\n",
       "      <td>2065.841435</td>\n",
       "      <td>0</td>\n",
       "    </tr>\n",
       "    <tr>\n",
       "      <th>2024-12-25</th>\n",
       "      <td>98216.757812</td>\n",
       "      <td>98333.084573</td>\n",
       "      <td>92947.656398</td>\n",
       "      <td>51.566850</td>\n",
       "      <td>826.916594</td>\n",
       "      <td>1818.056467</td>\n",
       "      <td>0</td>\n",
       "    </tr>\n",
       "  </tbody>\n",
       "</table>\n",
       "<p>3606 rows × 7 columns</p>\n",
       "</div>"
      ],
      "text/plain": [
       "                   Close         ema20         ema50        rsi         macd  \\\n",
       "Date                                                                           \n",
       "2015-02-11    219.184998    229.270971    250.640711  42.433898    -8.608123   \n",
       "2015-02-12    221.764008    228.556022    249.508291  43.901363    -8.210237   \n",
       "2015-02-13    235.427002    229.210401    248.956083  51.024304    -6.715013   \n",
       "2015-02-14    257.321014    231.887602    249.284120  59.826830    -3.720486   \n",
       "2015-02-15    234.824997    232.167354    248.717096  49.902257    -3.126502   \n",
       "...                  ...           ...           ...        ...          ...   \n",
       "2024-12-21  97224.726562  99069.601344  92289.965450  48.952697  1965.864891   \n",
       "2024-12-22  95104.937500  98692.014312  92400.356511  44.934433  1437.643624   \n",
       "2024-12-23  94686.242188  98310.512205  92489.999087  44.163328   974.011455   \n",
       "2024-12-24  98676.093750  98345.329495  92732.591034  52.524176   917.945789   \n",
       "2024-12-25  98216.757812  98333.084573  92947.656398  51.566850   826.916594   \n",
       "\n",
       "            macd_signal  Price_Up  \n",
       "Date                               \n",
       "2015-02-11    -9.327306         1  \n",
       "2015-02-12    -9.103892         1  \n",
       "2015-02-13    -8.626116         1  \n",
       "2015-02-14    -7.644990         0  \n",
       "2015-02-15    -6.741292         0  \n",
       "...                 ...       ...  \n",
       "2024-12-21  3012.484494         0  \n",
       "2024-12-22  2697.516320         0  \n",
       "2024-12-23  2352.815347         1  \n",
       "2024-12-24  2065.841435         0  \n",
       "2024-12-25  1818.056467         0  \n",
       "\n",
       "[3606 rows x 7 columns]"
      ]
     },
     "execution_count": 1,
     "metadata": {},
     "output_type": "execute_result"
    }
   ],
   "source": [
    "import pandas as pd\n",
    "import numpy as np\n",
    "data = pd.read_csv('BTC-I.csv', parse_dates=['Date'], index_col=['Date'])\n",
    "data"
   ]
  },
  {
   "cell_type": "code",
   "execution_count": 5,
   "metadata": {},
   "outputs": [
    {
     "data": {
      "text/plain": [
       "((3606, 1),\n",
       " array([[1],\n",
       "        [1],\n",
       "        [1],\n",
       "        ...,\n",
       "        [1],\n",
       "        [0],\n",
       "        [0]], shape=(3606, 1)))"
      ]
     },
     "execution_count": 5,
     "metadata": {},
     "output_type": "execute_result"
    }
   ],
   "source": [
    "features = ['Close', 'ema20', 'ema50', 'rsi', 'macd', 'macd_signal']\n",
    "target = ['Price_Up']\n",
    "# Separar X e y\n",
    "X = data[features]\n",
    "y = data[target].to_numpy()\n",
    "y.shape, y"
   ]
  },
  {
   "cell_type": "code",
   "execution_count": 6,
   "metadata": {},
   "outputs": [
    {
     "data": {
      "text/plain": [
       "((3606, 6),\n",
       " array([[-0.99983593, -0.99998561, -0.99963285, -0.22936958, -0.16634259,\n",
       "         -0.18473173],\n",
       "        [-0.99978724, -1.        , -0.99965728, -0.19458808, -0.16627684,\n",
       "         -0.18469061],\n",
       "        [-0.99952927, -0.99998683, -0.99966919, -0.02576196, -0.16602974,\n",
       "         -0.18460268],\n",
       "        ...,\n",
       "        [ 0.78373741,  0.97353383,  0.99012755, -0.18837907, -0.00395957,\n",
       "          0.25001379],\n",
       "        [ 0.8590673 ,  0.9742344 ,  0.99536067,  0.00978761, -0.01322471,\n",
       "          0.19719707],\n",
       "        [ 0.85039487,  0.97398802,  1.        , -0.01290268, -0.02826776,\n",
       "          0.15159296]], shape=(3606, 6)))"
      ]
     },
     "execution_count": 6,
     "metadata": {},
     "output_type": "execute_result"
    }
   ],
   "source": [
    "from sklearn.preprocessing import MinMaxScaler\n",
    "scaler = MinMaxScaler(feature_range=(-1, 1))\n",
    "X_scaled = scaler.fit_transform(X) # Ya lo convierte en un array de numpy \n",
    "X_scaled.shape, X_scaled"
   ]
  },
  {
   "cell_type": "code",
   "execution_count": 7,
   "metadata": {},
   "outputs": [
    {
     "data": {
      "text/plain": [
       "((3576, 30, 6), (3576, 1))"
      ]
     },
     "execution_count": 7,
     "metadata": {},
     "output_type": "execute_result"
    }
   ],
   "source": [
    "sequence_length = 30 # Ventana temporal de 30 dias \n",
    "X_sequences = []\n",
    "y_sequences = []\n",
    "for i in range(sequence_length, len(X_scaled)): # X_scaled tiene dimension de 1000, X_sequences tendra 1000 - 30(sequence_leght)\n",
    "    X_sequences.append(X_scaled[i - sequence_length: i])\n",
    "    y_sequences.append(y[i])\n",
    "X_sequences = np.array(X_sequences)\n",
    "y_sequences = np.array(y_sequences)\n",
    "X_sequences.shape, y_sequences.shape\n"
   ]
  },
  {
   "cell_type": "code",
   "execution_count": 8,
   "metadata": {},
   "outputs": [],
   "source": [
    "from sklearn.model_selection import train_test_split\n",
    "X_train, X_test, y_train, y_test = train_test_split(\n",
    "    X_sequences, y_sequences, test_size=0.1, shuffle=False)"
   ]
  },
  {
   "cell_type": "markdown",
   "metadata": {},
   "source": [
    "### Implementacion con Pytorch"
   ]
  },
  {
   "cell_type": "code",
   "execution_count": 9,
   "metadata": {},
   "outputs": [
    {
     "data": {
      "text/plain": [
       "(torch.Size([3218, 30, 6]),\n",
       " torch.Size([358, 30, 6]),\n",
       " torch.Size([3218, 1]),\n",
       " torch.Size([358, 1]))"
      ]
     },
     "execution_count": 9,
     "metadata": {},
     "output_type": "execute_result"
    }
   ],
   "source": [
    "# Convertimos los datos de Numpy a Tensores de Pytorch \n",
    "import torch\n",
    "X_train_tensor = torch.tensor(X_train, dtype=torch.float32)\n",
    "X_test_tensor = torch.tensor(X_test, dtype=torch.float32)\n",
    "y_train_tensor = torch.tensor(y_train, dtype=torch.float32)\n",
    "y_test_tensor = torch.tensor(y_test, dtype=torch.float32)\n",
    "\n",
    "X_train_tensor.shape, X_test_tensor.shape, y_train_tensor.shape, y_test_tensor.shape "
   ]
  },
  {
   "cell_type": "code",
   "execution_count": 10,
   "metadata": {},
   "outputs": [
    {
     "name": "stdout",
     "output_type": "stream",
     "text": [
      "101\n",
      "Batch X shape: torch.Size([32, 30, 6])\n",
      "Batch y shape: torch.Size([32, 1])\n"
     ]
    }
   ],
   "source": [
    "# Creamos Datasets y Dataloaders de Pytorch\n",
    "from torch.utils.data import TensorDataset, DataLoader\n",
    "train_dataset = TensorDataset(X_train_tensor, y_train_tensor) # Instanciamos la clase TendorDataSet \n",
    "test_dataset = TensorDataset(X_test_tensor, y_test_tensor)\n",
    "\n",
    "batch_size = 32\n",
    "\n",
    "train_loader = DataLoader(train_dataset, batch_size, shuffle=True) # Instanciamos la clase DataLoader\n",
    "test_loader = DataLoader(test_dataset, batch_size, shuffle=False)\n",
    "\n",
    "print(len(train_loader))\n",
    "for batch_X, batch_y in train_loader:\n",
    "    print(\"Batch X shape:\", batch_X.shape)\n",
    "    print(\"Batch y shape:\", batch_y.shape)\n",
    "      # Solo el primer batch\n",
    "    break\n"
   ]
  },
  {
   "cell_type": "code",
   "execution_count": 13,
   "metadata": {},
   "outputs": [
    {
     "name": "stdout",
     "output_type": "stream",
     "text": [
      "cuda\n",
      "MiLSTM(\n",
      "  (lstm): LSTM(6, 64, num_layers=2, batch_first=True)\n",
      "  (fc): Linear(in_features=64, out_features=1, bias=True)\n",
      ")\n"
     ]
    }
   ],
   "source": [
    "import torch\n",
    "import torch.nn as nn \n",
    "\n",
    "device = 'cuda' if torch.cuda.is_available() else 'cpu'\n",
    "print (device)\n",
    "\n",
    "class MiLSTM (nn.Module):\n",
    "    def __init__(self, input_size, hidden_size, num_layers, output_size ):\n",
    "        super().__init__()\n",
    "        self.input_size = input_size\n",
    "        self.hidden_size = hidden_size\n",
    "        self.num_layers = num_layers\n",
    "        self.output_size = output_size\n",
    "        # Definimos 1 capa LSTM y un Full Connected \n",
    "        self.lstm = nn.LSTM(input_size, hidden_size, num_layers, batch_first=True) #Ej [8, 64, 2, (batch_size, seq_length, hidden_size)]\n",
    "        self.fc = nn.Linear(hidden_size, output_size)\n",
    "    \n",
    "    def forward(self, x):\n",
    "        # Estados ocultos y celdas en 0 (num_layers, batch_size, hidden_size)\n",
    "        h0 = torch.zeros(self.num_layers, x.size(0), self.hidden_size).to(x.device) # Ej [2, 32, 64]\n",
    "        c0 = torch.zeros(self.num_layers, x.size(0), self.hidden_size).to(x.device) # Ej [2, 32, 64]\n",
    "\n",
    "        # Pasa la entrada por la capa LSTM \n",
    "        out, _ = self.lstm(x, (h0,c0)) #LLamo a la instancia de lstm (llamo a su metodo __call__ (no necesita nombre)) (batch_size, seq_length, hidden_size) [32, 30, 64]\n",
    "\n",
    "        #Seleccionamos la ultima salida de la secuencia\n",
    "        out = out[:,-1,:] # (batch_size , hidden_size) [32,64]\n",
    "\n",
    "        #Pasa por la fc\n",
    "        out = self.fc(out) # (batch_size, output_size) Ej [32,1]\n",
    "\n",
    "        return out\n",
    "\n",
    "# Parametros del modelo \n",
    "input_size = X_train_tensor.shape[2] \n",
    "hidden_size = 64 \n",
    "num_layers  = 2\n",
    "output_size = 1 # Clasificacion \n",
    "\n",
    "model = MiLSTM(input_size, hidden_size, num_layers, output_size).to(device)\n",
    "print(model) "
   ]
  },
  {
   "cell_type": "code",
   "execution_count": 17,
   "metadata": {},
   "outputs": [
    {
     "name": "stdout",
     "output_type": "stream",
     "text": [
      "Entrenado en cuda\n",
      "Epoch [10/50], Loss: 0.6959\n",
      "Epoch [20/50], Loss: 0.7131\n",
      "Epoch [30/50], Loss: 0.6778\n",
      "Epoch [40/50], Loss: 0.7342\n",
      "Epoch [50/50], Loss: 0.6159\n"
     ]
    }
   ],
   "source": [
    "# Definir la función de pérdida y el optimizador\n",
    "criterion = nn.BCEWithLogitsLoss()\n",
    "optimizer = torch.optim.Adam(model.parameters(), lr=0.001)\n",
    "\n",
    "# Entrenamiento del modelo\n",
    "num_epochs = 50 \n",
    "model.train()\n",
    "print(f'Entrenado en {device}')\n",
    "\n",
    "for epoch in range(num_epochs):\n",
    "    for batch_X, batch_y in train_loader:\n",
    "        batch_X = batch_X.to(device) #[32, 30, 8]\n",
    "        batch_y = batch_y.to(device) #[32, 1]\n",
    "\n",
    "        outputs = model(batch_X).squeeze() # [batch_size, 1] => [batch_size] \n",
    "\n",
    "        loss = criterion(outputs, batch_y.squeeze())\n",
    "\n",
    "        loss.backward()\n",
    "\n",
    "        optimizer.step()\n",
    "\n",
    "        optimizer.zero_grad()\n",
    "    if (epoch + 1 ) % 10 == 0:\n",
    "        print(f'Epoch [{epoch+1}/{num_epochs}], Loss: {loss.item():.4f}')\n",
    "\n",
    "\n",
    "\n"
   ]
  },
  {
   "cell_type": "code",
   "execution_count": 15,
   "metadata": {},
   "outputs": [
    {
     "name": "stdout",
     "output_type": "stream",
     "text": [
      "Accuracy on test set: 49.72%\n"
     ]
    }
   ],
   "source": [
    "model.eval()  # Modo de evaluación\n",
    "with torch.no_grad():\n",
    "    correct = 0\n",
    "    total = 0\n",
    "    for batch_X, batch_y in test_loader:\n",
    "        batch_X = batch_X.to(device)\n",
    "        batch_y = batch_y.to(device)\n",
    "\n",
    "        outputs = model(batch_X).squeeze()   # Logits\n",
    "        probs = torch.sigmoid(outputs)       # Probabilidades\n",
    "        predicted = torch.round(probs)       # Predicciones binarias (0 o 1)\n",
    "\n",
    "        total += batch_y.size(0)\n",
    "        correct += (predicted == batch_y.squeeze()).sum().item()\n",
    "\n",
    "    accuracy = 100 * correct / total\n",
    "    print(f'Accuracy on test set: {accuracy:.2f}%')"
   ]
  }
 ],
 "metadata": {
  "kernelspec": {
   "display_name": "base",
   "language": "python",
   "name": "python3"
  },
  "language_info": {
   "codemirror_mode": {
    "name": "ipython",
    "version": 3
   },
   "file_extension": ".py",
   "mimetype": "text/x-python",
   "name": "python",
   "nbconvert_exporter": "python",
   "pygments_lexer": "ipython3",
   "version": "3.12.3"
  }
 },
 "nbformat": 4,
 "nbformat_minor": 2
}
